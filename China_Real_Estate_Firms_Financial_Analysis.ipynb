{
  "cells": [
    {
      "cell_type": "markdown",
      "metadata": {
        "id": "Te0CVCdd5ZlN"
      },
      "source": [
        "# China Real Estate Developers & Their Tricks You may not know\n",
        "\n",
        "## Background Information\n",
        "\n",
        "This project is to explore Chinese real estate developers' financial statement data and uncover what were the common tricks they leveraged to cover up their high debt loads on their financial statements before the Three Red Lines policy was enforced by the central government in the Aug of 2020. To give some  background information, due to the fast increase in borrowing by real estate developers to compete for land resources, the real estate industry has become an extremely high-indebted industry with a scary leverage ratio over the past decade. When the economy was running at its prime time with an easy money policy and high GDP growth rate in the past, real estate developers enjoyed prosperity and could source external financing at low-interest costs, and did refinancing to extend their payback period. However, particularly during 2019– 2020, the China economy was firstly hit by the trade war initiated by the Trump government, and then further dented by the outbreak of the COVID-19 pandemic. Even though the China economy had been through a lot of ups and downs during that period, the real estate sector is still playing a significant role in promoting China's economy, one of many reasons is the real estate sector has many close ties to other sectors such as banking, commodity (e.g., Steel & Concrete), manufacturing (e.g., home appliance) and transportation. The development of the real estate sector can cause knock-on effects either in a good or bad way to other industries.\n",
        "\n",
        "Therefore, in order to contain the spread of financial risk due to high leverage and high debt problem that surfaced under the current low GDP growth rate environment, Beijing decided to enforce the Three Red Lines policies to contain the financial risk. Here are the details of the policy\n",
        "1. 70% ceiling on liabilities to assets, excluding advance proceeds from projects sold on contract\n",
        "2. 100% cap on net debt to equity,\n",
        "3. Cash to short-term borrowing ratio of at least one.\n",
        "Developers will be categorized based on how many limits they breach and their debt growth will be capped accordingly. If a firm passes all three, it can increase its debt by a maximum of 15% in the next year. However, developers will be restricted to the access of financing if they breach any one of the three limits.\n",
        "In the near term, a developer with a weak balance sheet and sizable exposure to second-tier cities may need to cut home prices to boost sales and shore up cash. This was evident in Evergrande's campaign last year to offer discounts of as much as 30% - its deepest cuts ever. It may also spur waves of equity sales and spinoffs of non-core businesses such as property management services; Evergrande is already disposing of assets and spinning off affiliates. Longer-term, it may force developers to devote more resources to non-residential property, such as office and retail."
      ]
    },
    {
      "cell_type": "markdown",
      "metadata": {
        "id": "sttvJomA-S1V"
      },
      "source": [
        "## Project Goal\n",
        "\n",
        "You might think that the project goal will be evolving around the Three Red Line Polices. Not necessarily, there has been a lot of coverage by popular financial news outlets such as CNBC, FT, and WSJ. Also, simply calculating these financial ratios actually does not drive useful insights. What I am going to do is to use the past financial statement data of 116 property developers to get more insights such as those common tricks they leveraged to cover up their high debt loads to shareholders and also give you some heads-up about what is a better way to analyze their financial data besides calculating those financial ratios. Having a good command of financial ratio analysis definitely can help an analyst go further and deliver actionable insights. However, in reality, their accounting practices seem much more complicated and convoluted. That is the reason why a deep dive into a given industry is definitely necessary for  being a good data analyst."
      ]
    },
    {
      "cell_type": "markdown",
      "metadata": {
        "id": "dQsV0-aYAteg"
      },
      "source": [
        "## Data Description\n",
        "\n",
        "Overall, the data contains three-year financial data (2017, 2018, and 2019) of 116 listed real estate developers. This dataset contains a number of variables as followed. All accounting items are in the unit of RMB 100 million.\n",
        "\n",
        "- `Sec_Code`: the security code of the listed real estate developer.\n",
        "- `Sec_Name`: the company name\n",
        "- `Cash_From_Customers`:  how much cash proceeds have been received from customers. This is a key indicator to evaluate a developer's sales & marketing ability to drive sales. To give you a heads-up. In China, some customers buy a new property that is still in construction and will be completed within 1 or 2 years. Typically speaking, another important alternative indicator called contract sales would be used to analyze cash received from customers, but this dataset does not cover it.\n",
        "- `NetCF_from_Operating`: cash flow from net operating activity \n",
        "- `NetCF_fromInvesting`: cash flow received from inveting activity \n",
        "- `Proceeds_FromBorrowing`: how much cash received from borrowers, most are banks or other financial institutions.\n",
        "- `Proceeds_FromBondIssues`: how much cash received from issuing bonds\n",
        "- `Dividend&InterestPaid`: how much dividend a real estate developer has distributed in a fiscal year.\n",
        "- `NetCF_from_Financing`: how much cash received from financing activity \n",
        "- `Provision_InventoryDepreciation`: provision charged on unsold property. This is an interesting indicator. Typically if a newly built property cannot be sold, it will be counted as an inventory unit on accounting book and depreciation provision charges will be applied. A good real estate developer should has high turnover to sell newly built properties as soon as possilbe to avoid such charge.\n",
        "- `Operating_Revenue`: how much revenues generated through core business activity\n",
        "- `Bills_Payable`: any bills that are payable to banks or other financial institutions. Usually bills payable are short-term debt \n",
        "- `A/C_Payable`: short term debt to suppliers\n",
        "- `Total_CI`: total comprehensive income\n",
        "- `CI_For_Non_Controlling_Ints`: comprehensive income for non-controlling interests\n",
        "- `NonControling_Interests`: non-controlling interests from minority shareholders in equity\n",
        "- `Total_Equity`: total equity on the shareholders' equity statement"
      ]
    },
    {
      "cell_type": "code",
      "execution_count": 7,
      "metadata": {
        "colab": {
          "base_uri": "https://localhost:8080/"
        },
        "id": "9Kb5rDBK3uWH",
        "outputId": "20da9e5d-9e6a-415b-c7f9-5013cfc9abf6"
      },
      "outputs": [
        {
          "output_type": "stream",
          "name": "stdout",
          "text": [
            "Requirement already satisfied: yfinance in /usr/local/lib/python3.7/dist-packages (0.1.67)\n",
            "Requirement already satisfied: lxml>=4.5.1 in /usr/local/lib/python3.7/dist-packages (from yfinance) (4.6.4)\n",
            "Requirement already satisfied: pandas>=0.24 in /usr/local/lib/python3.7/dist-packages (from yfinance) (1.1.5)\n",
            "Requirement already satisfied: requests>=2.20 in /usr/local/lib/python3.7/dist-packages (from yfinance) (2.23.0)\n",
            "Requirement already satisfied: numpy>=1.15 in /usr/local/lib/python3.7/dist-packages (from yfinance) (1.19.5)\n",
            "Requirement already satisfied: multitasking>=0.0.7 in /usr/local/lib/python3.7/dist-packages (from yfinance) (0.0.10)\n",
            "Requirement already satisfied: python-dateutil>=2.7.3 in /usr/local/lib/python3.7/dist-packages (from pandas>=0.24->yfinance) (2.8.2)\n",
            "Requirement already satisfied: pytz>=2017.2 in /usr/local/lib/python3.7/dist-packages (from pandas>=0.24->yfinance) (2018.9)\n",
            "Requirement already satisfied: six>=1.5 in /usr/local/lib/python3.7/dist-packages (from python-dateutil>=2.7.3->pandas>=0.24->yfinance) (1.15.0)\n",
            "Requirement already satisfied: certifi>=2017.4.17 in /usr/local/lib/python3.7/dist-packages (from requests>=2.20->yfinance) (2021.10.8)\n",
            "Requirement already satisfied: idna<3,>=2.5 in /usr/local/lib/python3.7/dist-packages (from requests>=2.20->yfinance) (2.10)\n",
            "Requirement already satisfied: chardet<4,>=3.0.2 in /usr/local/lib/python3.7/dist-packages (from requests>=2.20->yfinance) (3.0.4)\n",
            "Requirement already satisfied: urllib3!=1.25.0,!=1.25.1,<1.26,>=1.21.1 in /usr/local/lib/python3.7/dist-packages (from requests>=2.20->yfinance) (1.24.3)\n",
            "Drive already mounted at /content/drive; to attempt to forcibly remount, call drive.mount(\"/content/drive\", force_remount=True).\n"
          ]
        }
      ],
      "source": [
        "# Import package and link to Google Drive\n",
        "!pip install yfinance\n",
        "import yfinance as yf\n",
        "import numpy as np \n",
        "import pandas as pd\n",
        "from bs4 import BeautifulSoup\n",
        "import matplotlib\n",
        "import matplotlib.dates as mdates\n",
        "import requests\n",
        "import re\n",
        "xfmt = matplotlib.dates.DateFormatter('%Y-%M') \n",
        "\n",
        "# from google.colab import drive\n",
        "# drive.mount('/content/drive')\n",
        "\n",
        "data_link = 'Property_Developers-_Financial_Data.xlsx'\n",
        "# data_link = '/content/drive/MyDrive/Rhodium Data Case Analysis/Property_Developers-_Financial_Data.xlsx'\n",
        "\n",
        "# import the data as dataframe\n",
        "df = pd.read_excel(data_link)\n",
        "\n",
        "# skip the first two rows which are empty rows\n",
        "df = df.iloc[:-2,:]"
      ]
    },
    {
      "cell_type": "markdown",
      "metadata": {
        "id": "tnJ7fNzg3uWY"
      },
      "source": [
        "## Data Preprocessing"
      ]
    },
    {
      "cell_type": "markdown",
      "metadata": {
        "id": "sb1qnO7A3uWc"
      },
      "source": [
        "- You can see that the columns and security codes are not in English. Therefore I would clean up these columns and transalate them into English"
      ]
    },
    {
      "cell_type": "code",
      "execution_count": 8,
      "metadata": {
        "colab": {
          "base_uri": "https://localhost:8080/",
          "height": 722
        },
        "id": "AH_wLoWOWL1p",
        "outputId": "dc09058a-4598-4717-af23-02bf2000fcc1"
      },
      "outputs": [
        {
          "output_type": "execute_result",
          "data": {
            "text/html": [
              "<div>\n",
              "<style scoped>\n",
              "    .dataframe tbody tr th:only-of-type {\n",
              "        vertical-align: middle;\n",
              "    }\n",
              "\n",
              "    .dataframe tbody tr th {\n",
              "        vertical-align: top;\n",
              "    }\n",
              "\n",
              "    .dataframe thead th {\n",
              "        text-align: right;\n",
              "    }\n",
              "</style>\n",
              "<table border=\"1\" class=\"dataframe\">\n",
              "  <thead>\n",
              "    <tr style=\"text-align: right;\">\n",
              "      <th></th>\n",
              "      <th>证券代码</th>\n",
              "      <th>证券简称</th>\n",
              "      <th>销售商品、提供劳务收到的现金\\n[报告期] 2017年报\\n[报表类型] 合并报表\\n[单位] 亿元</th>\n",
              "      <th>销售商品、提供劳务收到的现金\\n[报告期] 2018年报\\n[报表类型] 合并报表\\n[单位] 亿元</th>\n",
              "      <th>销售商品、提供劳务收到的现金\\n[报告期] 2019年报\\n[报表类型] 合并报表\\n[单位] 亿元</th>\n",
              "      <th>经营活动产生的现金流量净额\\n[报告期] 2017年报\\n[报表类型] 合并报表\\n[单位] 亿元</th>\n",
              "      <th>经营活动产生的现金流量净额\\n[报告期] 2018年报\\n[报表类型] 合并报表\\n[单位] 亿元</th>\n",
              "      <th>经营活动产生的现金流量净额\\n[报告期] 2019年报\\n[报表类型] 合并报表\\n[单位] 亿元</th>\n",
              "      <th>投资活动产生的现金流量净额\\n[报告期] 2017年报\\n[报表类型] 合并报表\\n[单位] 亿元</th>\n",
              "      <th>投资活动产生的现金流量净额\\n[报告期] 2018年报\\n[报表类型] 合并报表\\n[单位] 亿元</th>\n",
              "      <th>投资活动产生的现金流量净额\\n[报告期] 2019年报\\n[报表类型] 合并报表\\n[单位] 亿元</th>\n",
              "      <th>取得借款收到的现金\\n[报告期] 2017年报\\n[报表类型] 合并报表\\n[单位] 亿元</th>\n",
              "      <th>取得借款收到的现金\\n[报告期] 2018年报\\n[报表类型] 合并报表\\n[单位] 亿元</th>\n",
              "      <th>取得借款收到的现金\\n[报告期] 2019年报\\n[报表类型] 合并报表\\n[单位] 亿元</th>\n",
              "      <th>发行债券收到的现金\\n[报告期] 2017年报\\n[报表类型] 合并报表\\n[单位] 亿元</th>\n",
              "      <th>发行债券收到的现金\\n[报告期] 2018年报\\n[报表类型] 合并报表\\n[单位] 亿元</th>\n",
              "      <th>发行债券收到的现金\\n[报告期] 2019年报\\n[报表类型] 合并报表\\n[单位] 亿元</th>\n",
              "      <th>分配股利、利润或偿付利息支付的现金\\n[报告期] 2017年报\\n[报表类型] 合并报表\\n[单位] 亿元</th>\n",
              "      <th>分配股利、利润或偿付利息支付的现金\\n[报告期] 2018年报\\n[报表类型] 合并报表\\n[单位] 亿元</th>\n",
              "      <th>分配股利、利润或偿付利息支付的现金\\n[报告期] 2019年报\\n[报表类型] 合并报表\\n[单位] 亿元</th>\n",
              "      <th>筹资活动产生的现金流量净额\\n[报告期] 2017年报\\n[报表类型] 合并报表\\n[单位] 亿元</th>\n",
              "      <th>筹资活动产生的现金流量净额\\n[报告期] 2018年报\\n[报表类型] 合并报表\\n[单位] 亿元</th>\n",
              "      <th>筹资活动产生的现金流量净额\\n[报告期] 2019年报\\n[报表类型] 合并报表\\n[单位] 亿元</th>\n",
              "      <th>存货跌价准备合计\\n[报告期] 2017年报\\n[报表类型] 合并报表\\n[数据类别] 期末数\\n[单位] 亿元</th>\n",
              "      <th>存货跌价准备合计\\n[报告期] 2018年报\\n[报表类型] 合并报表\\n[数据类别] 期末数\\n[单位] 亿元</th>\n",
              "      <th>存货跌价准备合计\\n[报告期] 2019年报\\n[报表类型] 合并报表\\n[数据类别] 期末数\\n[单位] 亿元</th>\n",
              "      <th>营业收入\\n[报告期] 2017年报\\n[报表类型] 合并报表\\n[单位] 亿元</th>\n",
              "      <th>营业收入\\n[报告期] 2018年报\\n[报表类型] 合并报表\\n[单位] 亿元</th>\n",
              "      <th>营业收入\\n[报告期] 2019年报\\n[报表类型] 合并报表\\n[单位] 亿元</th>\n",
              "      <th>应付票据\\n[报告期] 2017年报\\n[报表类型] 合并报表\\n[单位] 亿元</th>\n",
              "      <th>应付票据\\n[报告期] 2018年报\\n[报表类型] 合并报表\\n[单位] 亿元</th>\n",
              "      <th>应付票据\\n[报告期] 2019年报\\n[报表类型] 合并报表\\n[单位] 亿元</th>\n",
              "      <th>应付账款\\n[报告期] 2017年报\\n[报表类型] 合并报表\\n[单位] 亿元</th>\n",
              "      <th>应付账款\\n[报告期] 2018年报\\n[报表类型] 合并报表\\n[单位] 亿元</th>\n",
              "      <th>应付账款\\n[报告期] 2019年报\\n[报表类型] 合并报表\\n[单位] 亿元</th>\n",
              "      <th>综合收益总额\\n[报告期] 2017年报\\n[报表类型] 合并报表\\n[单位] 亿元</th>\n",
              "      <th>综合收益总额\\n[报告期] 2018年报\\n[报表类型] 合并报表\\n[单位] 亿元</th>\n",
              "      <th>综合收益总额\\n[报告期] 2019年报\\n[报表类型] 合并报表\\n[单位] 亿元↓</th>\n",
              "      <th>归属于少数股东的综合收益总额\\n[报告期] 2017年报\\n[报表类型] 合并报表\\n[单位] 亿元</th>\n",
              "      <th>归属于少数股东的综合收益总额\\n[报告期] 2018年报\\n[报表类型] 合并报表\\n[单位] 亿元</th>\n",
              "      <th>归属于少数股东的综合收益总额\\n[报告期] 2019年报\\n[报表类型] 合并报表\\n[单位] 亿元</th>\n",
              "      <th>少数股东权益\\n[报告期] 2017年报\\n[报表类型] 合并报表\\n[单位] 亿元</th>\n",
              "      <th>少数股东权益\\n[报告期] 2018年报\\n[报表类型] 合并报表\\n[单位] 亿元</th>\n",
              "      <th>少数股东权益\\n[报告期] 2019年报\\n[报表类型] 合并报表\\n[单位] 亿元</th>\n",
              "      <th>所有者权益合计\\n[报告期] 2017年报\\n[报表类型] 合并报表\\n[单位] 亿元</th>\n",
              "      <th>所有者权益合计\\n[报告期] 2018年报\\n[报表类型] 合并报表\\n[单位] 亿元</th>\n",
              "      <th>所有者权益合计\\n[报告期] 2019年报\\n[报表类型] 合并报表\\n[单位] 亿元</th>\n",
              "    </tr>\n",
              "  </thead>\n",
              "  <tbody>\n",
              "    <tr>\n",
              "      <th>0</th>\n",
              "      <td>000002.SZ</td>\n",
              "      <td>万科A</td>\n",
              "      <td>3684.0522</td>\n",
              "      <td>3981.4827</td>\n",
              "      <td>4327.3596</td>\n",
              "      <td>823.2283</td>\n",
              "      <td>336.1818</td>\n",
              "      <td>456.8681</td>\n",
              "      <td>-516.1323</td>\n",
              "      <td>-673.6444</td>\n",
              "      <td>-286.2673</td>\n",
              "      <td>945.7577</td>\n",
              "      <td>960.5299</td>\n",
              "      <td>790.1691</td>\n",
              "      <td>106.2040</td>\n",
              "      <td>389.8279</td>\n",
              "      <td>146.0343</td>\n",
              "      <td>191.3438</td>\n",
              "      <td>402.4934</td>\n",
              "      <td>368.2291</td>\n",
              "      <td>552.6490</td>\n",
              "      <td>447.9765</td>\n",
              "      <td>-333.3821</td>\n",
              "      <td>16.1321</td>\n",
              "      <td>23.1285</td>\n",
              "      <td>29.9009</td>\n",
              "      <td>2428.9711</td>\n",
              "      <td>2976.7933</td>\n",
              "      <td>3678.9388</td>\n",
              "      <td>33.3018</td>\n",
              "      <td>NaN</td>\n",
              "      <td>9.4128</td>\n",
              "      <td>1734.3940</td>\n",
              "      <td>NaN</td>\n",
              "      <td>2672.8087</td>\n",
              "      <td>370.0786</td>\n",
              "      <td>462.7901</td>\n",
              "      <td>556.8487</td>\n",
              "      <td>91.1737</td>\n",
              "      <td>151.3818</td>\n",
              "      <td>162.2047</td>\n",
              "      <td>539.9862</td>\n",
              "      <td>798.5660</td>\n",
              "      <td>825.2062</td>\n",
              "      <td>1866.7394</td>\n",
              "      <td>2356.2073</td>\n",
              "      <td>2705.7912</td>\n",
              "    </tr>\n",
              "    <tr>\n",
              "      <th>1</th>\n",
              "      <td>600048.SH</td>\n",
              "      <td>保利地产</td>\n",
              "      <td>2084.6068</td>\n",
              "      <td>2697.7666</td>\n",
              "      <td>2820.3877</td>\n",
              "      <td>-292.9586</td>\n",
              "      <td>118.9332</td>\n",
              "      <td>391.5532</td>\n",
              "      <td>-169.5072</td>\n",
              "      <td>-134.5917</td>\n",
              "      <td>-104.9837</td>\n",
              "      <td>1141.5834</td>\n",
              "      <td>1283.3437</td>\n",
              "      <td>1024.1795</td>\n",
              "      <td>NaN</td>\n",
              "      <td>115.0393</td>\n",
              "      <td>NaN</td>\n",
              "      <td>152.6515</td>\n",
              "      <td>214.0055</td>\n",
              "      <td>233.2887</td>\n",
              "      <td>673.9758</td>\n",
              "      <td>464.9775</td>\n",
              "      <td>-28.3465</td>\n",
              "      <td>2.2857</td>\n",
              "      <td>26.6283</td>\n",
              "      <td>37.0290</td>\n",
              "      <td>1463.0624</td>\n",
              "      <td>1945.1384</td>\n",
              "      <td>2359.3356</td>\n",
              "      <td>13.5747</td>\n",
              "      <td>46.3686</td>\n",
              "      <td>78.2756</td>\n",
              "      <td>454.5682</td>\n",
              "      <td>460.4947</td>\n",
              "      <td>1053.2535</td>\n",
              "      <td>199.3692</td>\n",
              "      <td>260.4452</td>\n",
              "      <td>376.2227</td>\n",
              "      <td>40.5131</td>\n",
              "      <td>72.4542</td>\n",
              "      <td>95.9496</td>\n",
              "      <td>512.5987</td>\n",
              "      <td>645.7184</td>\n",
              "      <td>735.0006</td>\n",
              "      <td>1582.3967</td>\n",
              "      <td>1864.9436</td>\n",
              "      <td>2295.2201</td>\n",
              "    </tr>\n",
              "    <tr>\n",
              "      <th>2</th>\n",
              "      <td>600606.SH</td>\n",
              "      <td>绿地控股</td>\n",
              "      <td>3577.1082</td>\n",
              "      <td>4190.2517</td>\n",
              "      <td>4417.3297</td>\n",
              "      <td>588.6255</td>\n",
              "      <td>421.7243</td>\n",
              "      <td>192.6146</td>\n",
              "      <td>-144.3337</td>\n",
              "      <td>-107.7455</td>\n",
              "      <td>-155.1944</td>\n",
              "      <td>1141.5877</td>\n",
              "      <td>1105.3938</td>\n",
              "      <td>1428.0528</td>\n",
              "      <td>85.3076</td>\n",
              "      <td>176.0572</td>\n",
              "      <td>167.9802</td>\n",
              "      <td>204.6868</td>\n",
              "      <td>197.4519</td>\n",
              "      <td>206.2326</td>\n",
              "      <td>-366.1896</td>\n",
              "      <td>-269.0098</td>\n",
              "      <td>50.3390</td>\n",
              "      <td>19.7901</td>\n",
              "      <td>22.4187</td>\n",
              "      <td>43.4621</td>\n",
              "      <td>2901.7415</td>\n",
              "      <td>3484.2646</td>\n",
              "      <td>4278.2271</td>\n",
              "      <td>44.1095</td>\n",
              "      <td>85.2302</td>\n",
              "      <td>111.5715</td>\n",
              "      <td>1346.4142</td>\n",
              "      <td>1655.5034</td>\n",
              "      <td>1996.2397</td>\n",
              "      <td>139.3691</td>\n",
              "      <td>145.1106</td>\n",
              "      <td>199.5716</td>\n",
              "      <td>45.0247</td>\n",
              "      <td>46.6718</td>\n",
              "      <td>62.3357</td>\n",
              "      <td>309.2258</td>\n",
              "      <td>388.2155</td>\n",
              "      <td>524.9111</td>\n",
              "      <td>934.5183</td>\n",
              "      <td>1089.2585</td>\n",
              "      <td>1313.9230</td>\n",
              "    </tr>\n",
              "    <tr>\n",
              "      <th>3</th>\n",
              "      <td>001979.SZ</td>\n",
              "      <td>招商蛇口</td>\n",
              "      <td>810.7121</td>\n",
              "      <td>1013.0095</td>\n",
              "      <td>1259.3288</td>\n",
              "      <td>-47.0869</td>\n",
              "      <td>104.7814</td>\n",
              "      <td>138.1207</td>\n",
              "      <td>-326.5688</td>\n",
              "      <td>29.5523</td>\n",
              "      <td>-131.5807</td>\n",
              "      <td>613.5369</td>\n",
              "      <td>714.9775</td>\n",
              "      <td>971.3492</td>\n",
              "      <td>73.9737</td>\n",
              "      <td>88.9963</td>\n",
              "      <td>NaN</td>\n",
              "      <td>86.5564</td>\n",
              "      <td>113.2042</td>\n",
              "      <td>141.5030</td>\n",
              "      <td>337.8291</td>\n",
              "      <td>8.5095</td>\n",
              "      <td>162.4829</td>\n",
              "      <td>1.1802</td>\n",
              "      <td>11.5218</td>\n",
              "      <td>36.0643</td>\n",
              "      <td>754.5468</td>\n",
              "      <td>882.7785</td>\n",
              "      <td>976.7218</td>\n",
              "      <td>11.8542</td>\n",
              "      <td>0.3437</td>\n",
              "      <td>1.0639</td>\n",
              "      <td>217.6866</td>\n",
              "      <td>260.1253</td>\n",
              "      <td>354.0310</td>\n",
              "      <td>147.0905</td>\n",
              "      <td>196.7845</td>\n",
              "      <td>188.7201</td>\n",
              "      <td>27.8280</td>\n",
              "      <td>42.2355</td>\n",
              "      <td>28.2720</td>\n",
              "      <td>244.1468</td>\n",
              "      <td>329.5398</td>\n",
              "      <td>1325.2498</td>\n",
              "      <td>927.8271</td>\n",
              "      <td>1088.6268</td>\n",
              "      <td>2273.7047</td>\n",
              "    </tr>\n",
              "    <tr>\n",
              "      <th>4</th>\n",
              "      <td>600383.SH</td>\n",
              "      <td>金地集团</td>\n",
              "      <td>662.4856</td>\n",
              "      <td>619.5130</td>\n",
              "      <td>786.3716</td>\n",
              "      <td>-69.8873</td>\n",
              "      <td>-18.2844</td>\n",
              "      <td>78.9928</td>\n",
              "      <td>7.4574</td>\n",
              "      <td>-52.1112</td>\n",
              "      <td>-96.4071</td>\n",
              "      <td>223.4298</td>\n",
              "      <td>221.7870</td>\n",
              "      <td>342.4379</td>\n",
              "      <td>98.4908</td>\n",
              "      <td>224.9392</td>\n",
              "      <td>NaN</td>\n",
              "      <td>59.4117</td>\n",
              "      <td>67.6578</td>\n",
              "      <td>80.2837</td>\n",
              "      <td>124.7061</td>\n",
              "      <td>213.3007</td>\n",
              "      <td>51.1362</td>\n",
              "      <td>3.4741</td>\n",
              "      <td>3.5465</td>\n",
              "      <td>5.1420</td>\n",
              "      <td>373.3221</td>\n",
              "      <td>503.1182</td>\n",
              "      <td>630.8421</td>\n",
              "      <td>NaN</td>\n",
              "      <td>2.5894</td>\n",
              "      <td>1.1076</td>\n",
              "      <td>99.5409</td>\n",
              "      <td>138.7340</td>\n",
              "      <td>196.6496</td>\n",
              "      <td>93.0582</td>\n",
              "      <td>121.9920</td>\n",
              "      <td>153.7255</td>\n",
              "      <td>26.4323</td>\n",
              "      <td>39.7603</td>\n",
              "      <td>53.8916</td>\n",
              "      <td>171.9191</td>\n",
              "      <td>200.2702</td>\n",
              "      <td>282.7535</td>\n",
              "      <td>579.5596</td>\n",
              "      <td>664.7756</td>\n",
              "      <td>823.6944</td>\n",
              "    </tr>\n",
              "  </tbody>\n",
              "</table>\n",
              "</div>"
            ],
            "text/plain": [
              "        证券代码  ... 所有者权益合计\\n[报告期] 2019年报\\n[报表类型] 合并报表\\n[单位] 亿元\n",
              "0  000002.SZ  ...                                   2705.7912\n",
              "1  600048.SH  ...                                   2295.2201\n",
              "2  600606.SH  ...                                   1313.9230\n",
              "3  001979.SZ  ...                                   2273.7047\n",
              "4  600383.SH  ...                                    823.6944\n",
              "\n",
              "[5 rows x 47 columns]"
            ]
          },
          "metadata": {},
          "execution_count": 8
        }
      ],
      "source": [
        "df.head(5)"
      ]
    },
    {
      "cell_type": "code",
      "execution_count": 9,
      "metadata": {
        "colab": {
          "base_uri": "https://localhost:8080/"
        },
        "id": "9qypjYeD3uWe",
        "outputId": "5c641e8c-d7e6-404e-b826-c50d132387ac"
      },
      "outputs": [
        {
          "output_type": "execute_result",
          "data": {
            "text/plain": [
              "[['证券代码'],\n",
              " ['证券简称'],\n",
              " ['销售商品、提供劳务收到的现金', '[报告期] 2017年报', '[报表类型] 合并报表', '[单位] 亿元'],\n",
              " ['销售商品、提供劳务收到的现金', '[报告期] 2018年报', '[报表类型] 合并报表', '[单位] 亿元'],\n",
              " ['销售商品、提供劳务收到的现金', '[报告期] 2019年报', '[报表类型] 合并报表', '[单位] 亿元']]"
            ]
          },
          "metadata": {},
          "execution_count": 9
        }
      ],
      "source": [
        "# Split the column by \\n \n",
        "columns_splits = [i.split('\\n') for i in df.columns]\n",
        "columns_splits[:5]"
      ]
    },
    {
      "cell_type": "code",
      "execution_count": 10,
      "metadata": {
        "colab": {
          "base_uri": "https://localhost:8080/"
        },
        "id": "uS5oq0JE3uWf",
        "outputId": "55ac4889-d8bd-4d0f-ee83-66e477605c6e"
      },
      "outputs": [
        {
          "output_type": "stream",
          "name": "stdout",
          "text": [
            "['证券代码' '证券简称' '销售商品、提供劳务收到的现金' '经营活动产生的现金流量净额' '投资活动产生的现金流量净额'\n",
            " '取得借款收到的现金' '发行债券收到的现金' '分配股利、利润或偿付利息支付的现金' '筹资活动产生的现金流量净额' '存货跌价准备合计'\n",
            " '营业收入' '应付票据' '应付账款' '综合收益总额' '归属于少数股东的综合收益总额' '少数股东权益' '所有者权益合计']\n",
            "['2017' '2018' '2019']\n",
            "{'[单位] 亿元'}\n"
          ]
        }
      ],
      "source": [
        "# we would get accoutning items from the column\n",
        "columns_items = [i[0] for i in columns_splits]\n",
        "columns_items =  pd.Series(columns_items).unique()\n",
        "print(columns_items)\n",
        "\n",
        "# Get fiscal year from the column titles\n",
        "columns_years = [i[1].strip(\"[报告期]\").strip(\"年\").strip() for i in columns_splits if len(i)>=2]\n",
        "columns_years = pd.Series(columns_years).unique()\n",
        "print(columns_years)\n",
        "\n",
        "# Get the monetary unit of accouting items\n",
        "target = '[单位] 亿元'\n",
        "columns_units = []\n",
        "for k in [i for i in columns_splits if len(i)>=2]:\n",
        "    if target in k:\n",
        "        columns_units.append(target)\n",
        "        \n",
        "print(set(columns_units))"
      ]
    },
    {
      "cell_type": "code",
      "execution_count": 11,
      "metadata": {
        "id": "qMBDuPsH3uWl"
      },
      "outputs": [],
      "source": [
        "# translate the accounting itesm into English\n",
        "English_name = ['Sec_Code','Sec_Name','Cash_From_Customers','NetCF_from_Operating','NetCF_fromInvesting',\\\n",
        "                'Proceeds_FromBorrowing','Proceeds_FromBondIssues','Dividend&InterestPaid',\\\n",
        "                'NetCF_from_Financing','Provision_InventoryDepreciation',\"Operating_Revenue\",'Bills_Payable','A/C_Payable','Total_CI',\n",
        "                'CI_For_Non_Controlling_Ints','NonControling_Interests','Total_Equity']\n",
        "\n",
        "# Map the english names and the column names of raw dataset\n",
        "mapping = dict(zip(columns_items,English_name))\n",
        "columns_items_eng = pd.Series(columns_items).map(mapping).values"
      ]
    },
    {
      "cell_type": "code",
      "execution_count": 12,
      "metadata": {
        "id": "cJ2GkzM83uWm"
      },
      "outputs": [],
      "source": [
        "multi_index = pd.MultiIndex.from_product([columns_items_eng[2:].tolist(), columns_years.tolist()])\n",
        "\n",
        "df2 = df.set_index(['证券代码','证券简称']).copy()"
      ]
    },
    {
      "cell_type": "code",
      "execution_count": 13,
      "metadata": {
        "id": "riBbasee3uWm"
      },
      "outputs": [],
      "source": [
        "# Assign the multi-level columns to the original columns\n",
        "df2.columns = multi_index\n",
        "# Then we can stack the table, to adjust the first-level of columns to the index\n",
        "df3 = df2.stack().copy()\n",
        "# Rename index names\n",
        "df3.index.names = ['Sec_Code','Sec_Name','Year']"
      ]
    },
    {
      "cell_type": "code",
      "execution_count": 14,
      "metadata": {
        "colab": {
          "base_uri": "https://localhost:8080/",
          "height": 252
        },
        "id": "faBPmrtO3uWn",
        "outputId": "f7a54c7b-0dc6-4b97-f792-3fc68139ac2c"
      },
      "outputs": [
        {
          "output_type": "execute_result",
          "data": {
            "text/html": [
              "<div>\n",
              "<style scoped>\n",
              "    .dataframe tbody tr th:only-of-type {\n",
              "        vertical-align: middle;\n",
              "    }\n",
              "\n",
              "    .dataframe tbody tr th {\n",
              "        vertical-align: top;\n",
              "    }\n",
              "\n",
              "    .dataframe thead th {\n",
              "        text-align: right;\n",
              "    }\n",
              "</style>\n",
              "<table border=\"1\" class=\"dataframe\">\n",
              "  <thead>\n",
              "    <tr style=\"text-align: right;\">\n",
              "      <th></th>\n",
              "      <th></th>\n",
              "      <th></th>\n",
              "      <th>A/C_Payable</th>\n",
              "      <th>Bills_Payable</th>\n",
              "      <th>CI_For_Non_Controlling_Ints</th>\n",
              "      <th>Cash_From_Customers</th>\n",
              "      <th>Dividend&amp;InterestPaid</th>\n",
              "      <th>NetCF_fromInvesting</th>\n",
              "      <th>NetCF_from_Financing</th>\n",
              "      <th>NetCF_from_Operating</th>\n",
              "      <th>NonControling_Interests</th>\n",
              "      <th>Operating_Revenue</th>\n",
              "      <th>Proceeds_FromBondIssues</th>\n",
              "      <th>Proceeds_FromBorrowing</th>\n",
              "      <th>Provision_InventoryDepreciation</th>\n",
              "      <th>Total_CI</th>\n",
              "      <th>Total_Equity</th>\n",
              "    </tr>\n",
              "    <tr>\n",
              "      <th>Sec_Code</th>\n",
              "      <th>Sec_Name</th>\n",
              "      <th>Year</th>\n",
              "      <th></th>\n",
              "      <th></th>\n",
              "      <th></th>\n",
              "      <th></th>\n",
              "      <th></th>\n",
              "      <th></th>\n",
              "      <th></th>\n",
              "      <th></th>\n",
              "      <th></th>\n",
              "      <th></th>\n",
              "      <th></th>\n",
              "      <th></th>\n",
              "      <th></th>\n",
              "      <th></th>\n",
              "      <th></th>\n",
              "    </tr>\n",
              "  </thead>\n",
              "  <tbody>\n",
              "    <tr>\n",
              "      <th rowspan=\"3\" valign=\"top\">000002.SZ</th>\n",
              "      <th rowspan=\"3\" valign=\"top\">万科A</th>\n",
              "      <th>2017</th>\n",
              "      <td>1734.3940</td>\n",
              "      <td>33.3018</td>\n",
              "      <td>91.1737</td>\n",
              "      <td>3684.0522</td>\n",
              "      <td>191.3438</td>\n",
              "      <td>-516.1323</td>\n",
              "      <td>552.6490</td>\n",
              "      <td>823.2283</td>\n",
              "      <td>539.9862</td>\n",
              "      <td>2428.9711</td>\n",
              "      <td>106.2040</td>\n",
              "      <td>945.7577</td>\n",
              "      <td>16.1321</td>\n",
              "      <td>370.0786</td>\n",
              "      <td>1866.7394</td>\n",
              "    </tr>\n",
              "    <tr>\n",
              "      <th>2018</th>\n",
              "      <td>NaN</td>\n",
              "      <td>NaN</td>\n",
              "      <td>151.3818</td>\n",
              "      <td>3981.4827</td>\n",
              "      <td>402.4934</td>\n",
              "      <td>-673.6444</td>\n",
              "      <td>447.9765</td>\n",
              "      <td>336.1818</td>\n",
              "      <td>798.5660</td>\n",
              "      <td>2976.7933</td>\n",
              "      <td>389.8279</td>\n",
              "      <td>960.5299</td>\n",
              "      <td>23.1285</td>\n",
              "      <td>462.7901</td>\n",
              "      <td>2356.2073</td>\n",
              "    </tr>\n",
              "    <tr>\n",
              "      <th>2019</th>\n",
              "      <td>2672.8087</td>\n",
              "      <td>9.4128</td>\n",
              "      <td>162.2047</td>\n",
              "      <td>4327.3596</td>\n",
              "      <td>368.2291</td>\n",
              "      <td>-286.2673</td>\n",
              "      <td>-333.3821</td>\n",
              "      <td>456.8681</td>\n",
              "      <td>825.2062</td>\n",
              "      <td>3678.9388</td>\n",
              "      <td>146.0343</td>\n",
              "      <td>790.1691</td>\n",
              "      <td>29.9009</td>\n",
              "      <td>556.8487</td>\n",
              "      <td>2705.7912</td>\n",
              "    </tr>\n",
              "    <tr>\n",
              "      <th rowspan=\"2\" valign=\"top\">600048.SH</th>\n",
              "      <th rowspan=\"2\" valign=\"top\">保利地产</th>\n",
              "      <th>2017</th>\n",
              "      <td>454.5682</td>\n",
              "      <td>13.5747</td>\n",
              "      <td>40.5131</td>\n",
              "      <td>2084.6068</td>\n",
              "      <td>152.6515</td>\n",
              "      <td>-169.5072</td>\n",
              "      <td>673.9758</td>\n",
              "      <td>-292.9586</td>\n",
              "      <td>512.5987</td>\n",
              "      <td>1463.0624</td>\n",
              "      <td>NaN</td>\n",
              "      <td>1141.5834</td>\n",
              "      <td>2.2857</td>\n",
              "      <td>199.3692</td>\n",
              "      <td>1582.3967</td>\n",
              "    </tr>\n",
              "    <tr>\n",
              "      <th>2018</th>\n",
              "      <td>460.4947</td>\n",
              "      <td>46.3686</td>\n",
              "      <td>72.4542</td>\n",
              "      <td>2697.7666</td>\n",
              "      <td>214.0055</td>\n",
              "      <td>-134.5917</td>\n",
              "      <td>464.9775</td>\n",
              "      <td>118.9332</td>\n",
              "      <td>645.7184</td>\n",
              "      <td>1945.1384</td>\n",
              "      <td>115.0393</td>\n",
              "      <td>1283.3437</td>\n",
              "      <td>26.6283</td>\n",
              "      <td>260.4452</td>\n",
              "      <td>1864.9436</td>\n",
              "    </tr>\n",
              "  </tbody>\n",
              "</table>\n",
              "</div>"
            ],
            "text/plain": [
              "                         A/C_Payable  Bills_Payable  ...  Total_CI  Total_Equity\n",
              "Sec_Code  Sec_Name Year                              ...                        \n",
              "000002.SZ 万科A      2017    1734.3940        33.3018  ...  370.0786     1866.7394\n",
              "                   2018          NaN            NaN  ...  462.7901     2356.2073\n",
              "                   2019    2672.8087         9.4128  ...  556.8487     2705.7912\n",
              "600048.SH 保利地产     2017     454.5682        13.5747  ...  199.3692     1582.3967\n",
              "                   2018     460.4947        46.3686  ...  260.4452     1864.9436\n",
              "\n",
              "[5 rows x 15 columns]"
            ]
          },
          "metadata": {},
          "execution_count": 14
        }
      ],
      "source": [
        "# Now the table has be a tabluated structured table\n",
        "df3.head(5)"
      ]
    },
    {
      "cell_type": "markdown",
      "metadata": {
        "id": "Jr6O5lrM3uWn"
      },
      "source": [
        "- Prepare a list of english Name for Each Real Estate Developer"
      ]
    },
    {
      "cell_type": "code",
      "execution_count": 15,
      "metadata": {
        "id": "ywmjvWyo3uWq"
      },
      "outputs": [],
      "source": [
        "english_name = ['China Vanke Co., Ltd. (000002.SZ)',\n",
        " 'Poly Developments and Holdings Group Co., Ltd. (600048.SS)',\n",
        " 'Greenland Holdings Corporation Limited (600606.SS)',\n",
        " 'China Merchants Shekou Industrial Zone Holdings Co., Ltd. (001979.SZ)',\n",
        " 'Gemdale Corporation (600383.SS)',\n",
        " 'China Fortune Land Development Co., Ltd. (600340.SS)',\n",
        " 'Seazen Holdings Co., Ltd (601155.SS)',\n",
        " 'RiseSun Real Estate Development Co.,Ltd (002146.SZ)',\n",
        " 'Jinke Property Group Co., Ltd. (000656.SZ)',\n",
        " 'Beijing Capital Development Co., Ltd. (600376.SS)',\n",
        " 'Shanghai Lujiazui Finance & Trade Zone Development Co., Ltd. (900932.SS)',\n",
        " 'Jiangsu Zhongnan Construction Group Co., Ltd. (000961.SZ)',\n",
        " 'Shanghai Shimao Co., Ltd. (600823.SS)',\n",
        " 'Yango Group Co., Ltd (000671.SZ)',\n",
        " 'Sichuan Languang Development Co., Ltd. (600466.SS)',\n",
        " 'Financial Street Holdings Co., Ltd. (000402.SZ)',\n",
        " 'Hangzhou Binjiang Real Estate Group Co.,Ltd (002244.SZ)',\n",
        " 'Grandjoy Holdings Group Co., Ltd. (000031.SZ)',\n",
        " 'Huafa Industrial Co.,Ltd.Zhuhai (600325.SS)',\n",
        " 'Tianjin Guangyu Development Co., Ltd. (000537.SZ)',\n",
        " 'China Enterprise Company Limited (600675.SS)',\n",
        " 'Beijing Urban Construction Investment & Development Co., Ltd. (600266.SS)',\n",
        " 'Cinda Real Estate Co., Ltd. (600657.SS)',\n",
        " 'DIMA HOLDINGS Co. ,Ltd. (600565.SS)',\n",
        " 'Xinhu Zhongbao Co.,Ltd. (600208.SS)',\n",
        " 'Nanjing Gaoke Company Limited (600064.SS)',\n",
        " 'Beijing North Star Company Limited (601588.SS)',\n",
        " 'Rongan Property Co.,Ltd. (000517.SZ)',\n",
        " 'Tahoe Group Co.,Ltd (000732.SZ)',\n",
        " 'Shanghai Lingang Holdings Co.,Ltd. (900928.SS)',\n",
        " 'Shanghai Lingang Holdings Co.,Ltd. (600848.SS)',\n",
        " 'Shanghai Jinqiao Export Processing Zone Development Co., Ltd. (900911.SS)',\n",
        " 'Black Peony (Group) Co., Ltd. (600510.SS)',\n",
        " 'Suning Universal Co.,Ltd (000718.SZ)',\n",
        " 'Zhongtian Financial Group Company Limited (000540.SZ)',\n",
        " 'CCCG Real Estate Corporation Limited (000736.SZ)',\n",
        " 'Greattown Holdings Ltd. (900940.SS)',\n",
        " 'Greattown Holdings Ltd. (600094.SS)',\n",
        " 'Macrolink Culturaltainment Development Co., Ltd. (000620.SZ)',\n",
        " 'China Union Holdings Ltd. (000036.SZ)',\n",
        " 'Guangdong Shirongzhaoye Co., Ltd. (002016.SZ)',\n",
        " 'Bright Real Estate Group Co., Limited (600708.SS)',\n",
        " 'Suzhou New District Hi-Tech Industrial Co.,Ltd (600736.SS)',\n",
        " 'Shenzhen Zhenye (Group) Co.,Ltd. (000006.SZ)',\n",
        " 'Jiangsu Phoenix Property Investment Company Limited (600716.SS)',\n",
        " 'Shanghai Industrial Development Co.,Ltd (600748.SS)',\n",
        " 'Shenzhen Properties & Resources Development (Group) Ltd. (000011.SZ)',\n",
        " 'Shenzhen Properties & Resources Development (Group) Ltd. (200011.SZ)',\n",
        " 'Huayuan Property Co.,Ltd. (600743.SS)',\n",
        " 'Ningbo Fuda Company Limited (600724.SS)',\n",
        " 'Shunfa Hengye Corporation (000631.SZ)',\n",
        " 'Shanghai SMI Holding Co., Ltd (600649.SS)',\n",
        " 'Beijing Vantone Real Estate Co., Ltd. (600246.SS)',\n",
        " 'Shanghai Wanye Enterprises Co.,Ltd (600641.SS)',\n",
        " 'Sundy Land Investment Co., Ltd. (600077.SS)',\n",
        " 'Gree Real Estate Co., Ltd. (600185.SS)',\n",
        " 'Metro Land Corporation Ltd. (600683.SS)',\n",
        " 'Shanghai Zhangjiang Hi-Tech Park Development Co., Ltd. (600895.SS)',\n",
        " 'Shenzhen Special Economic Zone Real Estate & Properties (Group) Co., Ltd. (000029.SZ)',\n",
        " 'Shenzhen Special Economic Zone Real Estate & Properties (Group) Co., Ltd. (200029.SZ)',\n",
        " 'Citychamp Dartong Co., Ltd. (600067.SS)',\n",
        " 'Hefei Urban Construction Development Co., Ltd (002208.SZ)',\n",
        " 'Wolong Real Estate Group Co.,Ltd. (600173.SS)',\n",
        " 'Shandong Xinneng Taishan Power Generation Co.,Ltd. (000720.SZ)',\n",
        " 'Shenzhen New Nanshan Holding (Group) Co., Ltd. (002314.SZ)',\n",
        " 'Shenzhen HeungKong Holding Co.,Ltd (600162.SS)',\n",
        " 'Everbright JiabaoCo.,Ltd. (600622.SS)',\n",
        " 'Cosmos Group Co., Ltd. (002133.SZ)',\n",
        " 'Tande Co., Ltd. (600665.SS)',\n",
        " 'China Wuyi Co., Ltd. (000797.SZ)',\n",
        " 'Hubei Fuxing Science and Technology Co.,Ltd (000926.SZ)',\n",
        " 'Lushang Health Industry Development Co.,Ltd. (600223.SS)',\n",
        " 'Beijing Electronic Zone Investment and Development Group Co., Ltd. (600658.SS)',\n",
        " 'Deluxe Family Co., Ltd. (600503.SS)',\n",
        " 'Chongqing Yukaifa Co., Ltd (000514.SZ)',\n",
        " 'Shanghai Shibei Hi-Tech Co.,Ltd. (900902.SS)',\n",
        " 'Shanghai Shibei Hi-Tech Co.,Ltd. (600604.SS)',\n",
        " 'Guangzhou Pearl River Industrial Development Co., Ltd. (600684.SS)',\n",
        " 'Sanxiang Impression Co., Ltd. (000863.SZ)',\n",
        " 'Tianjin Tianbao Infrastructure Co., Ltd. (000965.SZ)',\n",
        " 'Tianjin Realty Development (Group) Co., Ltd. (600322.SS)',\n",
        " 'Nanjing Chixia Development Co., Ltd. (600533.SS)',\n",
        " 'Tianjin Jinbin Development Co., Ltd. (000897.SZ)',\n",
        " 'Shenzhen Centralcon Investment Holding Co., Ltd. (000042.SZ)',\n",
        " 'Aoyuan Beauty Valley Technology Co., Ltd. (000615.SZ)',\n",
        " 'China Sports Industry Group Co., Ltd. (600158.SS)',\n",
        " 'Tibet Urban Development and Investment Co.,LTD (600773.SS)',\n",
        " 'Guangzhou Yuetai Group Co., Ltd. (600393.SS)',\n",
        " 'Rongfeng Holding Group Co.,Ltd. (000668.SZ)',\n",
        " 'Beijing Dalong Weiye Real Estate Development Co.,Ltd (600159.SS)',\n",
        " 'CASIN Real Estate Development Group Co., Ltd. (000838.SZ)',\n",
        " 'Changchun jingkai Group Co., Ltd (600215.SS)',\n",
        " 'Jinan High-tech Development Co., Ltd. (600807.SS)',\n",
        " 'DongGuan Winnerway Industry Zone LTD. (000573.SZ)',\n",
        " 'China Calxon Group Co., Ltd. (000918.SZ)',\n",
        " 'Shang Hai Ya Tong Co., Ltd. (600692.SS)',\n",
        " 'BEH-Property Co., Ltd (600791.SS)',\n",
        " 'Shahe Industrial Co., Ltd (000014.SZ)',\n",
        " 'Cred Holding Co.,Ltd (600890.SS)',\n",
        " 'Beijing Zodi Investment Co., Ltd. (000609.SZ)',\n",
        " 'HNA Investment Group Co., Ltd. (000616.SZ)',\n",
        " 'Lvjing Holding Co., Ltd. (000502.SZ)',\n",
        " 'Zhongrun Resources Investment Corporation (000506.SZ)',\n",
        " 'Beijing Airport High-Tech Park Co., Ltd. (600463.SS)',\n",
        " 'Yang Guang Co.,Ltd. (000608.SZ)',\n",
        " 'Tieling Newcity Investment Holding (Group) Limited (000809.SZ)',\n",
        " 'Langold Real Estate Co., Ltd. (002305.SZ)',\n",
        " 'Myhome Real Estate Development Group Co., Ltd. (000667.SZ)',\n",
        " 'HNA Innovation Co., Ltd. (900955.SS)',\n",
        " 'HNA Innovation Co., Ltd. (600555.SS)',\n",
        " 'Jiangsu Dagang Co., Ltd. (002077.SZ)',\n",
        " 'Shanghai New Huang Pu Industrial Group Co., Ltd. (600638.SS)',\n",
        " 'Tianjin Songjiang Co., Ltd. (600225.SS)',\n",
        " 'Yunnan Metropolitan Real Estate Development Co.Ltd (600239.SS)',\n",
        " 'HNA Infrastructure Investment Group Co., LTD (600515.SS)',\n",
        " 'Neoglory prosperity Inc. (002147.SZ)']\n",
        "\n",
        "sec_code = df['证券代码'].values\n",
        "\n",
        "\n",
        "assert len(sec_code) == len(english_name)"
      ]
    },
    {
      "cell_type": "code",
      "execution_count": 16,
      "metadata": {
        "id": "IYsXHcTc3uWs"
      },
      "outputs": [],
      "source": [
        "regex = re.compile(r'\\(\\d+\\.\\w{2}\\)')\n",
        "engnames = english_name.copy()\n",
        "\n",
        "for idx, i in enumerate(engnames):\n",
        "    engnames[idx] = regex.sub('',i).strip()\n",
        "\n",
        "# Create a mapping to map the English Names\n",
        "name_mapping = dict(zip(sec_code,engnames))\n",
        "\n",
        "# Create a Pandas Series for inserting into the dataframe directly\n",
        "English_Names = pd.Series(df3.index.get_level_values(0).tolist()).map(name_mapping)\n",
        "\n",
        "# assign the same index as df3 such that we can easily combine two dataframes\n",
        "English_Names.index = df3.index\n",
        "\n",
        "# assign the English name to each real estate developers\n",
        "df3['EngNames'] = English_Names "
      ]
    },
    {
      "cell_type": "markdown",
      "metadata": {
        "id": "xN6g5WH2zoZR"
      },
      "source": [
        "## Data Exploration"
      ]
    },
    {
      "cell_type": "code",
      "execution_count": 17,
      "metadata": {
        "colab": {
          "base_uri": "https://localhost:8080/",
          "height": 1000
        },
        "id": "ue_WVAa70f2h",
        "outputId": "b6b10611-5daf-4be7-da87-4e6c33c38b69"
      },
      "outputs": [
        {
          "output_type": "display_data",
          "data": {
            "image/png": "[encoded data removed]",
            "text/plain": [
              "<Figure size 1501.38x1080 with 12 Axes>"
            ]
          },
          "metadata": {
            "needs_background": "light"
          }
        }
      ],
      "source": [
        "## Data Distribution before filling missin values\n",
        "import matplotlib.pyplot as plt\n",
        "import seaborn as sns\n",
        "\n",
        "# convert the data frame from wide form into long form for visualization\n",
        "df_long = pd.melt(df3.reset_index(), id_vars= ['Sec_Code', 'Sec_Name', 'Year'] )\n",
        "\n",
        "# As we can see that, we are not going to use all variables but there are some key variables we need to look into\n",
        "key_columns = ['A/C_Payable', \n",
        "               'Bills_Payable', \n",
        "               'CI_For_Non_Controlling_Ints',\n",
        "               'Cash_From_Customers',\n",
        "               'NetCF_fromInvesting', \n",
        "               'NetCF_from_Financing', \n",
        "               'NetCF_from_Operating',\n",
        "               'NonControling_Interests',\n",
        "               'Operating_Revenue',\n",
        "               'Provision_InventoryDepreciation',\n",
        "               'Total_CI',\n",
        "               'Total_Equity'\n",
        "               ]\n",
        "\n",
        "# only get the variables we want ot analyze into a single dataframe\n",
        "df_trunc = df_long.loc[df_long.variable.isin(key_columns)]\n",
        "\n",
        "sns.displot(data = df_trunc, \n",
        "            col='variable', x='value', hue='Year', \n",
        "            kind='hist', \n",
        "            palette='tab10', \n",
        "            bins = 20,\n",
        "            stat=\"count\", \n",
        "            element='step',\n",
        "            col_wrap = 4, \n",
        "            common_bins=False,\n",
        "            facet_kws={'sharex': False, 'sharey': False}\n",
        "            )\n",
        "\n",
        "plt.tight_layout()\n",
        "plt.show()\n",
        "\n"
      ]
    },
    {
      "cell_type": "markdown",
      "metadata": {
        "id": "kdo8ch_pUEG8"
      },
      "source": [
        "There are some takeaways we can get from the distribution charts. For example, in 2019, the distribution of these accounting variables are either higher right-skewed (Total equity) or left-skewed (Cash flow from investing). This makes sense as we are aggregating these 116 developers' accounting information, regarding them as industry level. In the real estate sector, the \"Winner Takes All\" model does exist. If a developer has a strong financial position, it can easily raise funds from external sources and aggressively bid for valuable land resources to the local government. Also with the strong financial position, real estate developers can easily build up close ties with local government to negotiate. All these factors somehow cultivate the \"Winner Takes All\" model in China's real estate sector."
      ]
    },
    {
      "cell_type": "markdown",
      "metadata": {
        "id": "sXdDU0valryh"
      },
      "source": [
        "### Fill in the missing data\n",
        "\n",
        "There are some key variables from which we can see some `Nan` value in the dataframe. Fortunately, we don't have a lot of missing values in these columns. Also as these columns are fundamental financial data, they are to some extent correlated to each other.\n",
        "\n",
        "With a basic understanding of the accounting data, one of the best ways is to fill in the missing value with the ratio method. For example, if A/C payable is highly correlated with Operating Revenue (In fact, it is because A/C payable is positively related to sales. If more sales activities occurred, A/C payable will also increase but necessarily at the same pace but should show the same trend). If we want to fill in the missing value in 2019, we can compute the ratio of A/C Payable to Operating Revenues in 2018 and then apply the ratio in 2019 by multiplying it with its Operating Revenues in 2019 to backward calculate the estimated A/C payables of 2019.\n",
        "\n",
        "One of the reasons I believe SimpleLiinearRegression does not work to help us to predict the missing values here is first of all our dataset is relatively small, we only have 3-year data for 116 developers (in total, only 348 data points). Secondly, If we are going to apply Linear Regression, it is inevitable we have to build up our linear regression either across all developers' data in the same year or the same developer with three-year data. Either this way has high multi-collinearity. For example, companies in the same industry definitely will be impacted by the same policy. Also, they have competing relationships (one rises up, the other might decline) in the market as well.\n",
        "\n",
        "We can also increase the robustness of this ratio, by taking the average of the other two years' data as well. For example, we can take the average of both 2017 and 2018 and apply the ratio method to fill in missing values in 2019."
      ]
    },
    {
      "cell_type": "code",
      "execution_count": 18,
      "metadata": {
        "colab": {
          "base_uri": "https://localhost:8080/"
        },
        "id": "PxgLKSayzqy3",
        "outputId": "df4d6811-cf35-4cbb-aeb6-62295fce3176"
      },
      "outputs": [
        {
          "output_type": "stream",
          "name": "stderr",
          "text": [
            "/usr/local/lib/python3.7/dist-packages/ipykernel/kernelbase.py:399: PerformanceWarning: indexing past lexsort depth may impact performance.\n",
            "  user_expressions, allow_stdin)\n"
          ]
        }
      ],
      "source": [
        "# Check out the missing values\n",
        "missing_cols = df3.isnull().sum()\n",
        "\n",
        "# calculate the correlation marix to identify which column has the high correlation with target column\n",
        "corr_matrix = df3.corr()\n",
        "\n",
        "# base on the result of corr_matrix, we can clearly define which other columnn might be helpful to predict missing values\n",
        "fill_col = {\n",
        "    'A/C_Payable':'Operating_Revenue',\n",
        "    'Bills_Payable':'Operating_Revenue',\n",
        "    'CI_For_Non_Controlling_Ints':'Total_CI',\n",
        "    'NonControling_Interests':'Total_Equity',\n",
        "    'Provision_InventoryDepreciation':0,\n",
        "    'Total_CI': 'Total_Equity'\n",
        "}\n",
        "\n",
        "# df3.groupby(list(df3.index.names[:2])).apply(lambda x: x['A/C_Payable']/x['Operating_Revenue'] )\n",
        "\n",
        "# if there are missing values in the column, we use the ratio method to fill in the missing values\n",
        "for col in key_columns:\n",
        "    # if we don't have missing values, bypass the column\n",
        "    if missing_cols[col] == 0:\n",
        "        continue\n",
        "    else:\n",
        "        df_temp = df3.copy()\n",
        "        if isinstance(fill_col[col],str):\n",
        "            # calculate the ratio dataframe\n",
        "            df_temp['Ratio'] = df_temp[col]/df_temp[fill_col[col]]\n",
        "\n",
        "            # and then group by sec_code and sec_name to take the yearly average\n",
        "            ratio = df_temp.groupby(list(df_temp.index.names[:2]))['Ratio'].mean()\n",
        "\n",
        "            # get the dataframe which contains mssing values\n",
        "            df_missing = df3.loc[df3[col].isnull(),col]\n",
        "\n",
        "            # iterate each row to find the missing values and compute the value we want to fill in\n",
        "            for row in df_missing.iteritems():\n",
        "                # compute the value that we need to use \n",
        "                value = ratio.loc[(row[0][0], row[0][1])] * df3.loc[row[0], fill_col[col]]\n",
        "\n",
        "                # if value is not NaN\n",
        "                if value:\n",
        "                    # if estimated value is lower than 0, we cap at zero \n",
        "                    df3.loc[row[0],col] = max(0,value)\n",
        "                # otherwise, we fill in with 0 \n",
        "                else:\n",
        "                    df3.loc[row[0],col] = 0\n",
        "\n",
        "        else: \n",
        "            # if we dont define any column as denominator, we would fill in 0\n",
        "            df3[col] = df3[col].fillna(0)"
      ]
    },
    {
      "cell_type": "markdown",
      "metadata": {
        "id": "_WBgMbgI3uWt"
      },
      "source": [
        "## Goals of Analyzing Housing Developers' Financial Well-being (2017 - 2019)\n",
        "\n",
        "Analyaizng this specific sector requires a certain degree of familiarity with the industry insights and also some understanding about how to tweak accouting information to turn it into a signal that can reflect the real accoutning performance. But in this article, I am not going to touch on complicated accouting manipulation techniques but just to understand the entire industry's situation and what we can infer/learn from the real-estate sector. In the following session, we are going to address three major questions \n",
        "\n",
        "\n",
        "1.   How was the entire real estate market changing over the three-year period.\n",
        "2.   What kind of common \"financial engineering\" developers were leveraging to polish up their real financial position.\n",
        "3.   What are the worst-performing companies, with those financial engineering things we addressed in part 2. Can we create a model that can help us to pick up the best 5 and worst 5 companies, and long top 5 and short worst 5 to see how this pseudo portfolio perform in one year period (from 2020 - 2021)?\n",
        "\n",
        "\n",
        "\n"
      ]
    },
    {
      "cell_type": "markdown",
      "metadata": {
        "id": "PG4W2F8T3uWt"
      },
      "source": [
        "### Q1. Market Concentration Analysis - How was the entire real estate market changing over the three-year period."
      ]
    },
    {
      "cell_type": "markdown",
      "metadata": {
        "id": "L_8CEawH3uWu"
      },
      "source": [
        "For the first level of market concentration analysis, we want to identify how many top players would capture at least 80% of total sales/cash flow from customers. As in this dataset, it does not provide sales/revenues data, therefore we will use cash flow from customers as an alternative.."
      ]
    },
    {
      "cell_type": "markdown",
      "metadata": {
        "id": "C044MPGD3uWu"
      },
      "source": [
        "Cash flow received from customers is slightly different than revenues/sales in terms of the accounting recognition period. Typically, some housing developers in China heavily rely on prepayments from customers, in which case customers pay in advance to buy a property that will be completed within the agreed period (approximately in two to three years). This prepayment will be treated as liabilities on their financial statements and will be recognized as sales/revenues when housing developers deliver units to customers. There are some reasons supporting this presale practice. First and foremost the housing market is booming and in the heated status so-called \"Seller Market\". Developers can leverage pre-sale arrangements to test the market demands, which is a good pricing strategy. The second reason is presale can act as an effective and zero-cost hedging tool compared with common derivative contracts. Property developers can lock in the price of a property to avert policy risk (pricing control policy enforced by local government or central government). The presale practice, on the other hand, can also assist real estate developers to raise funds with zero interest costs. For homebuyers, presale payment arrangements (usually low deposits to secure future ownership of housing units) can overcome initial payment constraints. However, does more cash flow received from customers indicate a good signal? It really depends but in some cases investors need to be more cautious because property developers might be cash-strapped and therefore would discount property prices or provide other perks such as free parking lots or lower management fees in order to get cost-free cash from customers (customers are not stupid. If there are not benefits, why would they deliver a large sum of cash around 2–3 years early before the completion of property). Also, if the speed of cash received from customers does not align with the number of units deliver to customers, there might be a risk of under-delivery. Heavy discounts would appear when real estate developers' financial well-being is under the water. For example, before the burst of China Evergrande Group's debt problem, it has applied deep discounts on its apartment sales in order to collect cash to pay back mountain loads of debts ASAP."
      ]
    },
    {
      "cell_type": "code",
      "execution_count": 19,
      "metadata": {
        "colab": {
          "base_uri": "https://localhost:8080/",
          "height": 476
        },
        "id": "MOY7EzXM3uWu",
        "outputId": "a204f109-658d-42d2-8c5c-47fd384c7668",
        "scrolled": true
      },
      "outputs": [
        {
          "output_type": "stream",
          "name": "stderr",
          "text": [
            "/usr/local/lib/python3.7/dist-packages/seaborn/distributions.py:2619: FutureWarning: `distplot` is a deprecated function and will be removed in a future version. Please adapt your code to use either `displot` (a figure-level function with similar flexibility) or `histplot` (an axes-level function for histograms).\n",
            "  warnings.warn(msg, FutureWarning)\n",
            "/usr/local/lib/python3.7/dist-packages/seaborn/distributions.py:2619: FutureWarning: `distplot` is a deprecated function and will be removed in a future version. Please adapt your code to use either `displot` (a figure-level function with similar flexibility) or `histplot` (an axes-level function for histograms).\n",
            "  warnings.warn(msg, FutureWarning)\n",
            "/usr/local/lib/python3.7/dist-packages/seaborn/distributions.py:2619: FutureWarning: `distplot` is a deprecated function and will be removed in a future version. Please adapt your code to use either `displot` (a figure-level function with similar flexibility) or `histplot` (an axes-level function for histograms).\n",
            "  warnings.warn(msg, FutureWarning)\n"
          ]
        },
        {
          "output_type": "display_data",
          "data": {
            "image/png": "[encoded data removed]",
            "text/plain": [
              "<Figure size 576x360 with 1 Axes>"
            ]
          },
          "metadata": {
            "needs_background": "light"
          }
        }
      ],
      "source": [
        "import numpy as np\n",
        "import seaborn as sns\n",
        "import matplotlib.pyplot as plt\n",
        "\n",
        "# plotting\n",
        "\n",
        "fig, ax = plt.subplots(figsize=(8,5))\n",
        "\n",
        "def plot_cumCurve(df, col, cumulative, title, xlabel, ylabel, ax ):\n",
        "    \"\"\"\n",
        "    Purpose:\n",
        "        Visualize the distribution curve of univariable\n",
        "    Inputs:\n",
        "        df (pd.DataFrame): the dataframe in which contain data you want to visualize\n",
        "        col (Str): the col name that you want to visualize\n",
        "        cumulative (Boolean): True - plot cumulative distribution\n",
        "        title (Str): (Str): the title of the plot\n",
        "        xlabel (Str): the xlabel of the plot\n",
        "        ylabel (Str): the ylabel of the plot\n",
        "    Outputs:\n",
        "        None\n",
        "    \"\"\"\n",
        "\n",
        "    sns.set('notebook')\n",
        "\n",
        "    tmp = df3[col].reset_index()\n",
        "\n",
        "    for Year in ['2017',\"2018\",\"2019\"]:\n",
        "        x = tmp.loc[tmp.Year == Year][col]\n",
        "        kwargs = {'cumulative': cumulative}\n",
        "        sns.distplot(x, kde_kws=kwargs, ax=ax, label = Year)  \n",
        "    plt.title(title)\n",
        "    plt.xlabel(xlabel)\n",
        "    plt.ylabel(ylabel)\n",
        "    plt.legend()\n",
        "    plt.show();\n",
        "\n",
        "plot_cumCurve(df = df3, col = \"Cash_From_Customers\",\n",
        "              cumulative = True, \n",
        "              title = 'Market Concentration of Cashflow from Customers (2017-2019)',\n",
        "              xlabel = 'Cashflow From Customers (RMB 100 million)',\n",
        "              ylabel = 'Cumulative Proportion',\n",
        "              ax = ax\n",
        "              )"
      ]
    },
    {
      "cell_type": "markdown",
      "metadata": {
        "id": "ObAajiqO4abN"
      },
      "source": [
        "As you can see, the market landscape did change to some extent. You see that the blue curve (2017) from Figure 6 is more left outward than the orange and green curves. Also, the blue curve is reaching 80% of total cash received from customers much earlier than the other curves. We can imply that over the three-year period, the market is becoming more consolidated by those top market players, given that the real estate market was off the high and entering a downward trend at the time. Even the market was becoming more concentrated, the total cash received from customers still edged up year over year. Specifically, in 2017 the top 20 market plays siphoned over 80% cash from customers. When it comes to 2019, the number was down to the top 18. The declining trend of the number indicates that at the time the market was going through some struggles, and only real estate developers with a strong position and good financial well-being can show good defense when the entire marketing was declining."
      ]
    },
    {
      "cell_type": "code",
      "execution_count": 20,
      "metadata": {
        "colab": {
          "base_uri": "https://localhost:8080/"
        },
        "id": "n9DgZonf6g3h",
        "outputId": "0e0fabce-8755-49bb-ecb9-b043c96bff81"
      },
      "outputs": [
        {
          "output_type": "stream",
          "name": "stdout",
          "text": [
            "    Cash_From_Customers  Total_Cash  RuningPct\n",
            "1             3684.0522  21435.2887   0.171869\n",
            "2             3577.1082  21435.2887   0.338748\n",
            "3             2084.6068  21435.2887   0.435999\n",
            "4              810.7121  21435.2887   0.473821\n",
            "5              780.4940  21435.2887   0.510232\n",
            "6              662.4856  21435.2887   0.541138\n",
            "7              642.3031  21435.2887   0.571103\n",
            "8              573.6563  21435.2887   0.597865\n",
            "9              554.8713  21435.2887   0.623751\n",
            "10             549.6122  21435.2887   0.649392\n",
            "11             516.7662  21435.2887   0.673500\n",
            "12             491.7953  21435.2887   0.696443\n",
            "13             359.1555  21435.2887   0.713199\n",
            "14             324.0137  21435.2887   0.728315\n",
            "15             281.4625  21435.2887   0.741445\n",
            "16             235.8551  21435.2887   0.752448\n",
            "17             216.3725  21435.2887   0.762543\n",
            "18             208.0211  21435.2887   0.772247\n",
            "19             204.0063  21435.2887   0.781765\n",
            "20             199.1571  21435.2887   0.791056\n",
            "21             195.5761  21435.2887   0.800180\n",
            "22             195.5103  21435.2887   0.809301\n",
            "23             191.8936  21435.2887   0.818253\n",
            "24             177.7352  21435.2887   0.826545\n",
            "25             174.6107  21435.2887   0.834691\n",
            "    Cash_From_Customers  Total_Cash  RuningPct\n",
            "1             4190.2517  25746.8596   0.162748\n",
            "2             3981.4827  25746.8596   0.317388\n",
            "3             2697.7666  25746.8596   0.422168\n",
            "4             1057.3793  25746.8596   0.463236\n",
            "5             1013.0095  25746.8596   0.502581\n",
            "6              902.2275  25746.8596   0.537624\n",
            "7              851.0249  25746.8596   0.570677\n",
            "8              793.6322  25746.8596   0.601501\n",
            "9              751.1527  25746.8596   0.630676\n",
            "10             718.1817  25746.8596   0.658570\n",
            "11             619.5130  25746.8596   0.682632\n",
            "12             512.0125  25746.8596   0.702518\n",
            "13             499.5438  25746.8596   0.721920\n",
            "14             460.3573  25746.8596   0.739800\n",
            "15             347.4561  25746.8596   0.753295\n",
            "16             258.2321  25746.8596   0.763325\n",
            "17             254.1511  25746.8596   0.773196\n",
            "18             244.7392  25746.8596   0.782702\n",
            "19             242.5886  25746.8596   0.792124\n",
            "20             237.8407  25746.8596   0.801362\n",
            "21             225.1283  25746.8596   0.810105\n",
            "22             220.2453  25746.8596   0.818660\n",
            "23             194.2388  25746.8596   0.826204\n",
            "24             182.1703  25746.8596   0.833279\n",
            "25             180.7207  25746.8596   0.840298\n",
            "    Cash_From_Customers  Total_Cash  RuningPct\n",
            "1             4417.3297  28260.1175   0.156310\n",
            "2             4327.3596  28260.1175   0.309436\n",
            "3             2820.3877  28260.1175   0.409237\n",
            "4             1666.1823  28260.1175   0.468195\n",
            "5             1259.3288  28260.1175   0.512758\n",
            "6             1128.2607  28260.1175   0.552682\n",
            "7              879.2738  28260.1175   0.583795\n",
            "8              833.4865  28260.1175   0.613289\n",
            "9              786.5325  28260.1175   0.641121\n",
            "10             786.3716  28260.1175   0.668947\n",
            "11             754.0201  28260.1175   0.695628\n",
            "12             555.0027  28260.1175   0.715267\n",
            "13             550.7653  28260.1175   0.734756\n",
            "14             530.6033  28260.1175   0.753532\n",
            "15             440.7867  28260.1175   0.769130\n",
            "16             427.3155  28260.1175   0.784250\n",
            "17             386.8422  28260.1175   0.797939\n",
            "18             292.9935  28260.1175   0.808307\n",
            "19             235.1331  28260.1175   0.816627\n",
            "20             204.8567  28260.1175   0.823876\n",
            "21             193.2597  28260.1175   0.830715\n",
            "22             187.2028  28260.1175   0.837339\n",
            "23             182.9486  28260.1175   0.843813\n",
            "24             181.2408  28260.1175   0.850226\n",
            "25             162.4756  28260.1175   0.855975\n"
          ]
        }
      ],
      "source": [
        "# Market Concentration Analysis - to identify how many top players needed to achieve 80% of total cash received from customers in the entire market\n",
        "\n",
        "# seperate dataframe by years\n",
        "df_top80_17 = df3.loc[df3.index.get_level_values('Year') == '2017']\n",
        "df_top80_18 = df3.loc[df3.index.get_level_values('Year') == '2018']\n",
        "df_top80_19 = df3.loc[df3.index.get_level_values('Year') == '2019']\n",
        "\n",
        "# iterate throuh all dataframes and calculate number\n",
        "for df in [df_top80_17,df_top80_18,df_top80_19]:\n",
        "    df = df[['Cash_From_Customers']].sort_values(by = 'Cash_From_Customers', ascending = False)\n",
        "    df['Total_Cash'] = df['Cash_From_Customers'].sum()\n",
        "    df['RuningPct'] = df['Cash_From_Customers'].cumsum() / df['Total_Cash']\n",
        "    df.index = range(1, df_top80_17.shape[0]+1)\n",
        "    print(df.head(25))\n"
      ]
    },
    {
      "cell_type": "code",
      "execution_count": 21,
      "metadata": {
        "colab": {
          "base_uri": "https://localhost:8080/",
          "height": 171
        },
        "id": "kbeKYuug5OgK",
        "outputId": "85f4c059-7b5d-45fb-883b-2c2c6e1b0b09"
      },
      "outputs": [
        {
          "output_type": "execute_result",
          "data": {
            "text/html": [
              "<div>\n",
              "<style scoped>\n",
              "    .dataframe tbody tr th:only-of-type {\n",
              "        vertical-align: middle;\n",
              "    }\n",
              "\n",
              "    .dataframe tbody tr th {\n",
              "        vertical-align: top;\n",
              "    }\n",
              "\n",
              "    .dataframe thead th {\n",
              "        text-align: right;\n",
              "    }\n",
              "</style>\n",
              "<table border=\"1\" class=\"dataframe\">\n",
              "  <thead>\n",
              "    <tr style=\"text-align: right;\">\n",
              "      <th></th>\n",
              "      <th>Cash_From_Customers</th>\n",
              "      <th>pct_change</th>\n",
              "    </tr>\n",
              "    <tr>\n",
              "      <th>Year</th>\n",
              "      <th></th>\n",
              "      <th></th>\n",
              "    </tr>\n",
              "  </thead>\n",
              "  <tbody>\n",
              "    <tr>\n",
              "      <th>2017</th>\n",
              "      <td>21435.2887</td>\n",
              "      <td>NaN</td>\n",
              "    </tr>\n",
              "    <tr>\n",
              "      <th>2018</th>\n",
              "      <td>25746.8596</td>\n",
              "      <td>0.201144</td>\n",
              "    </tr>\n",
              "    <tr>\n",
              "      <th>2019</th>\n",
              "      <td>28260.1175</td>\n",
              "      <td>0.097614</td>\n",
              "    </tr>\n",
              "  </tbody>\n",
              "</table>\n",
              "</div>"
            ],
            "text/plain": [
              "      Cash_From_Customers  pct_change\n",
              "Year                                 \n",
              "2017           21435.2887         NaN\n",
              "2018           25746.8596    0.201144\n",
              "2019           28260.1175    0.097614"
            ]
          },
          "metadata": {},
          "execution_count": 21
        }
      ],
      "source": [
        "df_CFfromCust = df3.groupby(df3.index.get_level_values('Year'))['Cash_From_Customers'].sum().to_frame()\n",
        "df_CFfromCust['pct_change'] = df_CFfromCust['Cash_From_Customers'].pct_change()\n",
        "df_CFfromCust\n"
      ]
    },
    {
      "cell_type": "markdown",
      "metadata": {
        "id": "-Tqk26SHZEAM"
      },
      "source": [
        "As you can see that, total cash received from customer logged a positve growth rate, at 20% from 2017 to 2018. However in 2019, the grow rate was shrinking to just only 9.7%. What was really happening at the time from 2018 to 2019?"
      ]
    },
    {
      "cell_type": "markdown",
      "metadata": {
        "id": "9f-gZ3WQedSU"
      },
      "source": [
        "Another metircs we can use to analyze market situation is to rank developers based on cash received from customers. My prior assumption is that over the three years, the rank of top markets players would not change drastically but the small and meidum real estate developers would go through some ups and downs over this three year period."
      ]
    },
    {
      "cell_type": "code",
      "execution_count": 22,
      "metadata": {
        "id": "7W51xX27c0qU"
      },
      "outputs": [],
      "source": [
        "# reset index and then assign rank of cash received from customer to each firm in each year. \n",
        "# higher cash received will get a lower rank like 1 or 2 \n",
        "df3 = df3.reset_index()\n",
        "df3['RankCashFromCust'] = df3.groupby([\"Year\"])['Cash_From_Customers']\\\n",
        "            .rank(ascending = False, method = 'dense')"
      ]
    },
    {
      "cell_type": "code",
      "execution_count": 23,
      "metadata": {
        "id": "IWzeqxv6eA2l"
      },
      "outputs": [],
      "source": [
        "def quintiles(inser):\n",
        "    # inser is a pd.Series not a dataframe\n",
        "    \"\"\"\n",
        "    Purpose: divide a an array into 5 quintiles based on a given numerical variable\n",
        "    Input: pd.series or array \n",
        "    Output: pd.series with five labels: 1,2,3,4,5\n",
        "    \"\"\"\n",
        "    ouster = pd.qcut(inser, q= 5, labels = range(1,6))\n",
        "    return ouster\n",
        "\n",
        "# group by Year and diivid firm five quintiles based on their total equity\n",
        "df3['Bin_Equity'] = df3.groupby('Year')['Total_Equity'].apply(quintiles)\n",
        "\n",
        "# calculate the rank standard deviation of each bin for each year\n",
        "df_bin = df3.groupby(['Year','Bin_Equity'])['RankCashFromCust'].std().reset_index()\n",
        "\n",
        "# rename columns for visualization\n",
        "df_bin.columns = ['Year', 'Total Equity', 'Rank Standard Deviation']"
      ]
    },
    {
      "cell_type": "code",
      "execution_count": 24,
      "metadata": {
        "colab": {
          "base_uri": "https://localhost:8080/",
          "height": 227
        },
        "id": "ymZMYhKjgqy-",
        "outputId": "08c0f0a9-b773-42d7-8756-f33fdb71fb5a"
      },
      "outputs": [
        {
          "output_type": "display_data",
          "data": {
            "image/png": "[encoded data removed]",
            "text/plain": [
              "<Figure size 607.475x216 with 1 Axes>"
            ]
          },
          "metadata": {}
        }
      ],
      "source": [
        "import matplotlib.pyplot as plt\n",
        "import seaborn as sb\n",
        "\n",
        "# specify the order of colors\n",
        "g = sb.FacetGrid(data = df_bin, hue = 'Year', aspect = 2.5)\n",
        "\n",
        "# map the plotting function on each plot\n",
        "g = g.map(sb.regplot, \n",
        "          'Total Equity', \n",
        "          'Rank Standard Deviation',fit_reg = False);\n",
        "\n",
        "# add legend\n",
        "g.add_legend(title = 'Year')\n",
        "\n",
        "# define xtick labels and other plot properties\n",
        "plt.xticks(range(1,6),[1,2,3,4,5])\n",
        "plt.ylim(5, 25)\n",
        "plt.xlabel('Total Equity Bin',fontsize = 8)\n",
        "plt.ylabel('Rank Std of Cash Received From Customers', fontsize = 8)\n",
        "plt.show()"
      ]
    },
    {
      "cell_type": "markdown",
      "metadata": {
        "id": "xqWtWmiwmswa"
      },
      "source": [
        "- You can clearly observe that over the three-year period, firms at higher bins (Bin 5 with high equity) shows much lower standard deviation of rank in cash received from customers, which indicates that their market position is relatively stablized compared with those at the lower bins"
      ]
    },
    {
      "cell_type": "markdown",
      "metadata": {
        "id": "xoGgx2VAoTh3"
      },
      "source": [
        "## Q2. What kind of common \"financial engineering\" developers were leveraging to polish up their real financial position."
      ]
    },
    {
      "cell_type": "code",
      "execution_count": 25,
      "metadata": {
        "id": "n72YQXSEjyq1"
      },
      "outputs": [],
      "source": [
        " # A/C Payble and # Bill Payable\n",
        "# Does it grow at the same speed as cash received from customers or operating revenues?\n",
        "# Comprehensive Income to NonControlling Interest the percantage are aligned with the NonControllingInterest/Total Equity\n",
        "# What we can infer from the provision of InventroyDepreciation\n",
        "# Distance between Total Net Cashflow and Operating Cashflow"
      ]
    },
    {
      "cell_type": "markdown",
      "metadata": {
        "id": "IAEKUL70UbXM"
      },
      "source": [
        "### Tricks from A/C payable & Bill payable\n",
        "\n",
        "- A/C payables & Bill payables are short-term financings that real estate developers would leverage. In China real estate market, developers usually have strong negotiation power to put the payment on hold to suppliers until properties have been completed. Therefore when the liquidity becomes tight, developers tend to defer payment to supplies. Therefore, payables are an important source of short-term financing for developers to go around the short-term liquidity problems. By increasing payables, developers in some ways were transferring some of the liquidity pressure to suppliers."
      ]
    },
    {
      "cell_type": "code",
      "execution_count": 26,
      "metadata": {
        "id": "aAUl0lpSg2zk"
      },
      "outputs": [],
      "source": [
        "df3['TotalPayables'] = df3['A/C_Payable'] + df3['Bills_Payable']"
      ]
    },
    {
      "cell_type": "code",
      "execution_count": 27,
      "metadata": {
        "colab": {
          "base_uri": "https://localhost:8080/",
          "height": 284
        },
        "id": "-ov3SKt8WkEv",
        "outputId": "7b81ac2f-d881-4803-f825-7304d34d2348"
      },
      "outputs": [
        {
          "output_type": "display_data",
          "data": {
            "image/png": "[encoded data removed]",
            "text/plain": [
              "<Figure size 432x288 with 1 Axes>"
            ]
          },
          "metadata": {}
        }
      ],
      "source": [
        "import seaborn as sns\n",
        "\n",
        "def plot_barline(df,x,y,ylabel):\n",
        "    \"\"\"\n",
        "    Purpose:\n",
        "        the function is the plot the bar chart for the numerical values and the line chart for the growth rate\n",
        "    Inputs:\n",
        "        df (pd.DataFrame): the dataframe that contains column we want to analze\n",
        "        x (str): the column by which you want to group your results\n",
        "        y (str): the column on which you want to analyze\n",
        "        ylabel (str): ylabel you want to put on the y-axis of the plot\n",
        "    Return:\n",
        "        None\n",
        "    \"\"\"\n",
        "\n",
        "    df_temp = df.copy()\n",
        "    df_temp2 = df.groupby(x)[y].sum().to_frame().reset_index()\n",
        "    df_temp2['%Change'] = df_temp2[y].pct_change().fillna(0)\n",
        "\n",
        "    sns.set_theme(style=\"whitegrid\")\n",
        "    base_color = sb.color_palette()[0]\n",
        "    ax = sns.barplot(x=x, y=y, data=df_temp2, color = base_color)\n",
        "    ax.plot(df_temp2[x], df_temp2[y], color = 'red', marker = '>')\n",
        "    ax.set_ylabel(ylabel)\n",
        "    for idx, p in enumerate(ax.patches):\n",
        "        number = '{:.2f}%'.format(df_temp2['%Change'][idx]*100)\n",
        "        x = p.get_x() + p.get_width()/2 - 0.25\n",
        "        y = p.get_y() + p.get_height() + 2\n",
        "        ax.annotate(number, (x, y))\n",
        "\n",
        "    plt.show()\n",
        "\n",
        "plot_barline(df = df3,x = 'Year', y = \"TotalPayables\", ylabel = 'Total Payables (RMB 100 million)')"
      ]
    },
    {
      "cell_type": "code",
      "execution_count": 28,
      "metadata": {
        "colab": {
          "base_uri": "https://localhost:8080/",
          "height": 296
        },
        "id": "VOR1qj3Vc03o",
        "outputId": "403f2fc5-cc8b-42df-eae8-efc4cdf8800e"
      },
      "outputs": [
        {
          "output_type": "display_data",
          "data": {
            "image/png": "[encoded data removed]",
            "text/plain": [
              "<Figure size 432x288 with 1 Axes>"
            ]
          },
          "metadata": {}
        }
      ],
      "source": [
        "plot_barline(df = df3, x = 'Year', y = \"Cash_From_Customers\", ylabel = 'Cash from Customers (RMB 100 million)')"
      ]
    },
    {
      "cell_type": "code",
      "execution_count": 29,
      "metadata": {
        "colab": {
          "base_uri": "https://localhost:8080/",
          "height": 293
        },
        "id": "EiKS806udSqW",
        "outputId": "20b1393f-3784-44c9-a43b-1ab61a43b2ab"
      },
      "outputs": [
        {
          "output_type": "display_data",
          "data": {
            "image/png": "[encoded data removed]",
            "text/plain": [
              "<Figure size 432x288 with 1 Axes>"
            ]
          },
          "metadata": {}
        }
      ],
      "source": [
        "plot_barline(df = df3, x = 'Year', y = \"Operating_Revenue\", ylabel = 'Opearting Revenues (RMB 100 million)')"
      ]
    },
    {
      "cell_type": "markdown",
      "metadata": {
        "id": "4RChpFVMaVEN"
      },
      "source": [
        "As you can see from 2017 to year 2018, payables in the dataset increased by 22% and then the trend accelerated to 31% from year 2018 to 2019. This indicates that at the time market was facing liquidity problem issue, which is supported by the relatively slow growth rate in operating revenues (20.10%) and cash received from customers (9.76%). Cash indicators I believe will be more reliable as firstly it does not contains any accrual items and has lesser leeway to manipulate than operating revenues."
      ]
    },
    {
      "cell_type": "code",
      "execution_count": 30,
      "metadata": {
        "colab": {
          "base_uri": "https://localhost:8080/",
          "height": 287
        },
        "id": "jLOijHlCcUQe",
        "outputId": "f226d000-f2b6-41fe-e393-cbed007f4792"
      },
      "outputs": [
        {
          "output_type": "display_data",
          "data": {
            "image/png": "[encoded data removed]",
            "text/plain": [
              "<Figure size 432x288 with 1 Axes>"
            ]
          },
          "metadata": {}
        }
      ],
      "source": [
        "import matplotlib.pyplot as plt\n",
        "import seaborn as sb\n",
        "\n",
        "df3.groupby('Year')[['Operating_Revenue','NetCF_from_Operating']].sum().plot()\n",
        "plt.legend(bbox_to_anchor = (1,1.03))\n",
        "plt.show()\n"
      ]
    },
    {
      "cell_type": "markdown",
      "metadata": {
        "id": "Y43NF7sObIeo"
      },
      "source": [
        "Also, if we look at the line plots for operating revenue and net cash received from operating activity, we can see the the gap between two data is widening. Operating revenues of the industry was increassing while net cashflow received from customers are decreasing. Though, this signal does not necessarily mean operating revenues were manipulated but in practice it's a good signal showing operating revenues alone cannot represent the whole picture of the firm's financial well-being."
      ]
    },
    {
      "cell_type": "markdown",
      "metadata": {
        "id": "fnsdQb1ql1d6"
      },
      "source": [
        "### Off-balance sheet item - Joint Venture\n",
        "The other common technique that developers leverages as mentioned is to form a joint venture with institutional or private investors, and then developers sell their shares of the joint venture to investors and guaranteed that they would buy back at a higher price. Therefore, how can we look for the signal through their accounting data? Actually, it could be complicated as typically this type of joint venture does not require full disclosure as developers usually hold less than 50% of ownership. However, we could use a relatively indirect approach by analyzing the minority interest on their financial statement.\n",
        "\n",
        "What we are going to do is to analyze the ratio of Non-Controlling Interest over Total equity vs. the ratio of comprehensive income attributed to NCI over total comprehensive income. Logically speaking if non-controlling interests are normal and belong to equity investment, these two ratios should be very closed and aligned. However, if this non-controlling interest entity involves debt-form investment, it would complicate the situation and we can see the two ratios would be off from each other."
      ]
    },
    {
      "cell_type": "code",
      "execution_count": 31,
      "metadata": {
        "id": "k99BYDr1s2tg"
      },
      "outputs": [],
      "source": [
        "import seaborn as sns\n",
        "\n",
        "df_bin_payables = df3.groupby(['Year','Bin_Equity'])['TotalPayables'].sum().reset_index()\n",
        "\n",
        "def stack_bar_plot(df,x,y,hue,xlabel, ylabel):\n",
        "    \"\"\"\n",
        "    \"\"\"\n",
        "    sns.barplot(x = x ,  y = y, hue = hue, data = df)\n",
        "    plt.xticks(rotation = 15)\n",
        "    plt.legend(bbox_to_anchor = (1,1.03)),\n",
        "    plt.xlabel(xlabel)\n",
        "    plt.ylabel(ylabel)\n",
        "    plt.show()\n"
      ]
    },
    {
      "cell_type": "code",
      "execution_count": 32,
      "metadata": {
        "colab": {
          "base_uri": "https://localhost:8080/"
        },
        "id": "GpimpDZfXM-X",
        "outputId": "af80f901-66e1-4a32-85ee-585d8f8db8b5"
      },
      "outputs": [
        {
          "output_type": "stream",
          "name": "stderr",
          "text": [
            "/usr/local/lib/python3.7/dist-packages/ipykernel_launcher.py:11: SettingWithCopyWarning: \n",
            "A value is trying to be set on a copy of a slice from a DataFrame.\n",
            "Try using .loc[row_indexer,col_indexer] = value instead\n",
            "\n",
            "See the caveats in the documentation: https://pandas.pydata.org/pandas-docs/stable/user_guide/indexing.html#returning-a-view-versus-a-copy\n",
            "  # This is added back by InteractiveShellApp.init_path()\n"
          ]
        }
      ],
      "source": [
        "# compute the ratio of Non Controlling Interest to Total Equity Ratio\n",
        "df3['NonControlInterest_TotalEquity'] = df3['NonControling_Interests']/df3['Total_Equity']\n",
        "\n",
        "# compute the ratio of comprehensive income attributed to Non-controlling interest to total comprehensive income\n",
        "df3['NonControlInterest_CompreIncome'] = df3['CI_For_Non_Controlling_Ints']/df3['Total_CI']\n",
        "\n",
        "# extract all columns for possible joint venture deals hidden in the financil statement\n",
        "df_NCI = df3[['EngNames','Bin_Equity','Year','NonControlInterest_TotalEquity', 'NonControlInterest_CompreIncome']]\n",
        "\n",
        "# compute the absolute distance between two ratios\n",
        "df_NCI['Difference'] = np.abs(df_NCI['NonControlInterest_TotalEquity'] - df_NCI['NonControlInterest_CompreIncome'])"
      ]
    },
    {
      "cell_type": "code",
      "execution_count": 33,
      "metadata": {
        "colab": {
          "base_uri": "https://localhost:8080/",
          "height": 286
        },
        "id": "MKbLsV_vm6Id",
        "outputId": "8f7c90f1-998e-437b-bae4-a9dfd11823dc"
      },
      "outputs": [
        {
          "output_type": "display_data",
          "data": {
            "image/png": "[encoded data removed]",
            "text/plain": [
              "<Figure size 432x288 with 1 Axes>"
            ]
          },
          "metadata": {}
        }
      ],
      "source": [
        "# Summary Statistics\n",
        "df_bin_meandifference = df_NCI.groupby(['Year','Bin_Equity'])['Difference'].describe()['mean'].reset_index()\n",
        "\n",
        "# plot the chart to show the mean difference between two ratios over three year period\n",
        "stack_bar_plot(df = df_bin_meandifference,\n",
        "               x = 'Bin_Equity',\n",
        "               y = 'mean',\n",
        "               hue = 'Year',\n",
        "               xlabel = 'Bin by Total Equity (low to high)', \n",
        "               ylabel = 'Mean Difference of Two Ratios')\n"
      ]
    },
    {
      "cell_type": "markdown",
      "metadata": {
        "id": "4tNAdhKblxG0"
      },
      "source": [
        "In order to better analyze data, we classify data into five quintiles. The higher quantile represents stronger total equity and so on. As you can see from Figure 12, bin 4 & 5 (high total equity), the ratio difference is relatively stable and much smaller than bin 1, 2, and 3. In addition, you can see that bin 5 was trending down from 2017 to 2019, while other bins were trending up. That makes sense as high total equity means a stronger balance sheet, which enables developers to have broader access to external financings such as bond issues and favorable credit terms in paying total payables, while the weaker players have more restricted access to external financing and also higher cost of borrowing. Therefore they have to do some \"financial engineering\" to source money from uncommon ways to either support their competition or operating activities."
      ]
    },
    {
      "cell_type": "code",
      "execution_count": 34,
      "metadata": {
        "colab": {
          "base_uri": "https://localhost:8080/",
          "height": 303
        },
        "id": "YT0SEl07oTlR",
        "outputId": "1ba8be30-2e12-4fe1-dcb7-9440f3ac3087"
      },
      "outputs": [
        {
          "output_type": "display_data",
          "data": {
            "image/png": "[encoded data removed]",
            "text/plain": [
              "<Figure size 432x288 with 1 Axes>"
            ]
          },
          "metadata": {}
        }
      ],
      "source": [
        "# Total amount of borrowing proceed\n",
        "df3['TotalBorrowing'] = df3['Proceeds_FromBondIssues'] + df3['Proceeds_FromBorrowing']\n",
        "df_bin_borrowing = df3.groupby(['Year','Bin_Equity'])['TotalBorrowing'].sum().reset_index()\n",
        "\n",
        "# # plot the total borrowing amnount by bins over the three-year period\n",
        "stack_bar_plot(df = df_bin_borrowing,\n",
        "               x = 'Bin_Equity',\n",
        "               y = 'TotalBorrowing',\n",
        "               hue = 'Year',\n",
        "               xlabel = 'Bin by Total Equity (low to high)',\n",
        "               ylabel = 'Total Proceeds (Borrowing + Bond Issues)'\n",
        "               )"
      ]
    },
    {
      "cell_type": "markdown",
      "metadata": {
        "id": "8SnOOJHjx8_c"
      },
      "source": [
        "You can see that developers with stronger balance sheets and equity show that they can have greater access to external financing. Over the three-year period, companies at the higher bins had raised many orders of magnitude of money through bond issues or borrowing compared with those companies at the lower bins (lower equity and smaller balance sheet)"
      ]
    },
    {
      "cell_type": "code",
      "execution_count": 35,
      "metadata": {
        "colab": {
          "base_uri": "https://localhost:8080/",
          "height": 286
        },
        "id": "KkOYcuHdneaJ",
        "outputId": "c60a4583-fbf9-4884-8708-01c96ca18d07"
      },
      "outputs": [
        {
          "output_type": "display_data",
          "data": {
            "image/png": "[encoded data removed]",
            "text/plain": [
              "<Figure size 432x288 with 1 Axes>"
            ]
          },
          "metadata": {}
        }
      ],
      "source": [
        "# calculate the data for visualization\n",
        "df_bin_payables = df3.groupby(['Year','Bin_Equity'])['TotalPayables'].sum().reset_index()\n",
        "\n",
        "# plot the total payables by bins over the three-year period\n",
        "stack_bar_plot(df = df_bin_payables,\n",
        "               x = 'Bin_Equity',\n",
        "               y = 'TotalPayables',\n",
        "               hue = 'Year',\n",
        "               xlabel = 'Bin by Total Equity (low to high)',\n",
        "               ylabel = 'Total Payables'\n",
        "               )"
      ]
    },
    {
      "cell_type": "markdown",
      "metadata": {
        "id": "N9CRaw9Yq7Uq"
      },
      "source": [
        "This bar chart has further substantiated my argument that company with higher total equity has greater power to negotiate for the better terms of total payables with suppliers or financial institutions. Therefore, you can see the bin 5 (high total equity) shows different order of magnitude of larger total payables than lower bins over the three-year period."
      ]
    },
    {
      "cell_type": "markdown",
      "metadata": {
        "id": "Px8tjwJQ5KbS"
      },
      "source": [
        "# Q3. What are the worst-performing companies, with those financial engineering things we addressed in part 2. Can we create a model that can help us to pick up the best 5 and worst 5 companies, and long top 5 and short worst 5 to see how this pseudo portfolio performs in the next 6 - 9 month returns (from 2020/3/31 - 2020/12/31)?"
      ]
    },
    {
      "cell_type": "markdown",
      "metadata": {
        "id": "oEjYZetXmckL"
      },
      "source": [
        "Before we pick stocks among these developers, we need to define our criteria for stock selection. Here are some of the criteria that I addressed in previous sessions. You know that I was doing this part just for fun, if you think some factors look unreasonable, it is totally acceptable to have differing views as the best strategy does not exist in the stock market.\n",
        "\n",
        "Factor 1: Market ranking based on cash received from customers and operating revenues should be relatively close to each other. If these two ranks are relatively stable and aligned, it signals the earning quality of such developers is credible.\n",
        "\n",
        "Factor 2: Constant dividend & interest payout to shareholders & bondholders, the higher the payout the better company would be. This ratio represents the rate of return that bond and equity investors can earn  either through a bond or equity investments.\n",
        "\n",
        "Factor 3: ratio of Non-controlling interest to total equity and the ratio of total comprehensive income attributed to minority shareholders should be relatively close or aligned to each other. The difference between the two ratios should be constant otherwise it indicates that the company is using joint venture financing.\n",
        "\n",
        "Factor  4: ratio of cash received from customers to total payables should be higher, the higher the ratio the better the company can use the cash received to cover its short-term liabilities."
      ]
    },
    {
      "cell_type": "code",
      "execution_count": 36,
      "metadata": {
        "id": "-i8OmKQ56vzb"
      },
      "outputs": [],
      "source": [
        "# the lower rank (smaller ranking difference between cash received from customers and operating revenues), the better the company\n",
        "df3['Rank_OperatingRevenues'] = df3.groupby([\"Year\"])['Operating_Revenue'].rank(ascending = False, method = 'dense')\n",
        "df3['RankingDifference'] = np.abs(df3['Rank_OperatingRevenues'] - df3['RankCashFromCust'])\n",
        "df3['Factor1'] = df3.groupby([\"Year\"])['RankingDifference'].rank(ascending = True, method = 'dense')\n",
        "\n",
        "# the lower rank (the higher payout ratio), the better the company\n",
        "df3['DividendIntPayoutRatio'] = df3['Dividend&InterestPaid']/df3['Total_Equity']\n",
        "df3['Factor2'] = df3.groupby([\"Year\"])['DividendIntPayoutRatio'].rank(ascending = False, method = 'dense')\n",
        "\n",
        "# the ratio of non-controlling interest to total equity and the ratio of total comprehensive income attributed to minority sharehoders should be relatively stable and close to each other\n",
        "# the lower rank (the smaller differnece between two ratios), the better the company\n",
        "df3['NCI_ratio_difference'] = np.abs(df3['NonControlInterest_TotalEquity'] - df3['NonControlInterest_CompreIncome'])\n",
        "df3['Factor3'] = df3.groupby([\"Year\"])['NCI_ratio_difference'].rank(ascending = True, method = 'dense')\n",
        "\n",
        "# compute the coverage ratio, the lower the ranking (the higer the coverage, the better the company)\n",
        "df3['coverage_ratio'] = df3['Cash_From_Customers']/df3['TotalPayables']\n",
        "df3['Factor4'] = df3.groupby([\"Year\"])['coverage_ratio'].rank(ascending = False, method = 'dense')\n"
      ]
    },
    {
      "cell_type": "code",
      "execution_count": 37,
      "metadata": {
        "id": "ULQURTPU9T4X"
      },
      "outputs": [],
      "source": [
        "# group by the company name and sec code, and then take the three-year average of each factor we calculated\n",
        "df4 = df3.groupby(['Sec_Code','EngNames'])[['Factor1','Factor2','Factor3','Factor4']].mean()\n",
        "\n",
        "# now, we compute the average of these four factors\n",
        "df5 = df4.mean(axis=1).reset_index()\n",
        "\n",
        "# renamne columns\n",
        "df5.columns = ['Sec_Code', 'EngNames', 'AverageScore']\n",
        "\n",
        "# classify the average score into 5 bins (invest into the bin 1 and short the higher bin 5)\n",
        "df5['Bins'] = df5[['AverageScore']].apply(quintiles)"
      ]
    },
    {
      "cell_type": "code",
      "execution_count": 38,
      "metadata": {
        "id": "YsAy7VN1159z"
      },
      "outputs": [],
      "source": [
        "# select those stocks that only exist in the bin 1 and bin 5 for later data processing\n",
        "df6 = df5[df5[\"Bins\"].isin([1,5])]"
      ]
    },
    {
      "cell_type": "markdown",
      "metadata": {
        "id": "YAa57vNj5lDP"
      },
      "source": [
        "\n",
        "- Now we need to get the stock price for each stock in our bins. In order to avoid looking ahead bias, we would start to invest after 3/31/2020 because typically last year annual statement would not be available until the mid of  March next year. Our investment horizon would span from 3/31/2020 to 12/31/2020 to see how our model perform during this period"
      ]
    },
    {
      "cell_type": "code",
      "execution_count": 39,
      "metadata": {
        "colab": {
          "base_uri": "https://localhost:8080/"
        },
        "id": "QQCYc5Qh4JbC",
        "outputId": "baac3ae2-366a-44bf-cfb1-9c4f789ffb71"
      },
      "outputs": [
        {
          "output_type": "stream",
          "name": "stdout",
          "text": [
            "['000006.SZ', '000011.SZ', '000036.SZ', '000506.SZ', '000514.SZ', '000573.SZ', '000616.SZ', '000656.SZ', '000667.SZ', '000718.SZ', '000732.SZ', '000736.SZ', '000926.SZ', '002016.SZ', '002077.SZ', '002146.SZ', '200011.SZ', '600064.SS', '600158.SS', '600159.SS', '600185.SS', '600208.SS', '600225.SS', '600246.SS', '600322.SS', '600376.SS', '600383.SS', '600393.SS', '600463.SS', '600503.SS', '600515.SS', '600533.SS', '600604.SS', '600606.SS', '600638.SS', '600641.SS', '600649.SS', '600657.SS', '600665.SS', '600684.SS', '600724.SS', '600736.SS', '600807.SS', '600823.SS', '600848.SS', '900902.SS', '900928.SS']\n",
            "[*********************100%***********************]  47 of 47 completed\n"
          ]
        }
      ],
      "source": [
        "# conver the stock code into a list\n",
        "tickers = df6['Sec_Code'].tolist()\n",
        "\n",
        "# replace the code, if the code ends with '.SH', replace it with '.SS' to align with Yahoo Finance format\n",
        "tickers = [code.replace('.SH','.SS') if '.SH' in code else code for code in tickers ]\n",
        "print(tickers)\n",
        "\n",
        "# join the stock code into a string\n",
        "tickers_text = \" \".join(tickers)\n",
        "\n",
        "# get the stock data spanning from 2020-03-31 to 2020-12-31\n",
        "stock_data = yf.download(tickers_text, start=\"2020-03-31\", end=\"2020-12-31\")"
      ]
    },
    {
      "cell_type": "code",
      "execution_count": 40,
      "metadata": {
        "id": "hK8jvKC57NvF"
      },
      "outputs": [],
      "source": [
        " # only get the adjusted close price for stock data\n",
        " stock_data_adj = stock_data.loc[:,('Adj Close')]\n",
        "\n",
        "# convert stock data into accumulative return, such that we can easily visualize our portfolio return\n",
        " ret_data = stock_data_adj.pct_change().fillna(0)"
      ]
    },
    {
      "cell_type": "code",
      "execution_count": 41,
      "metadata": {
        "colab": {
          "base_uri": "https://localhost:8080/"
        },
        "id": "134tqMLnBVjb",
        "outputId": "ad3a2542-0ae1-47d4-b6e5-52401c187993"
      },
      "outputs": [
        {
          "output_type": "stream",
          "name": "stderr",
          "text": [
            "/usr/local/lib/python3.7/dist-packages/ipykernel_launcher.py:2: SettingWithCopyWarning: \n",
            "A value is trying to be set on a copy of a slice from a DataFrame.\n",
            "Try using .loc[row_indexer,col_indexer] = value instead\n",
            "\n",
            "See the caveats in the documentation: https://pandas.pydata.org/pandas-docs/stable/user_guide/indexing.html#returning-a-view-versus-a-copy\n",
            "  \n"
          ]
        }
      ],
      "source": [
        "# save the new tickers into the dataframe\n",
        "df6['Sec_Code_New'] = tickers\n",
        "\n",
        "# get stocks at the lower bin\n",
        "bin1_stocks = df6.loc[df6['Bins'] == 1, 'Sec_Code_New']\n",
        "\n",
        "# get stocks at the higher bin\n",
        "bin5_stocks = df6.loc[df6['Bins'] == 5, 'Sec_Code_New']\n",
        "\n",
        "# compute the portfolio return every day\n",
        "port = ret_data[ret_data.columns[ret_data.columns.isin(bin1_stocks)]].mean(axis =1) - ret_data[ret_data.columns[ret_data.columns.isin(bin5_stocks)]].mean(axis =1)"
      ]
    },
    {
      "cell_type": "code",
      "source": [
        "# check the bin statistics to see if each bin has the same number of stocks\n",
        "df5['Bins'].value_counts()"
      ],
      "metadata": {
        "colab": {
          "base_uri": "https://localhost:8080/"
        },
        "id": "iPTUjZvlXgIs",
        "outputId": "7476e9bf-74b5-4665-89ad-00b24f635d64"
      },
      "execution_count": 45,
      "outputs": [
        {
          "output_type": "execute_result",
          "data": {
            "text/plain": [
              "2    24\n",
              "1    24\n",
              "5    23\n",
              "3    23\n",
              "4    22\n",
              "Name: Bins, dtype: int64"
            ]
          },
          "metadata": {},
          "execution_count": 45
        }
      ]
    },
    {
      "cell_type": "code",
      "execution_count": 42,
      "metadata": {
        "colab": {
          "base_uri": "https://localhost:8080/",
          "height": 287
        },
        "id": "2Ma0dOnRCAed",
        "outputId": "a4c3b9cd-8f76-430a-d8d7-36e3cdfcca19"
      },
      "outputs": [
        {
          "output_type": "display_data",
          "data": {
            "image/png": "[encoded data removed]",
            "text/plain": [
              "<Figure size 432x288 with 1 Axes>"
            ]
          },
          "metadata": {}
        }
      ],
      "source": [
        "(port + 1).cumprod().plot()\n",
        "plt.ylabel('Cumulative Return')\n",
        "plt.show();"
      ]
    },
    {
      "cell_type": "markdown",
      "metadata": {
        "id": "lKUWAiTnGjS2"
      },
      "source": [
        "The stock-picking methodology is really risky and volatile. The portfolio performance increases by almost 20% within three months and falls to square one at the year-end of 2020. At the same time, the trading idea ignores a number of important factors. Firstly, we cannot conduct short selling in the China stock market. Second, I did not include transaction costs, taxes, and dividends which will impact portfolio performance even further. Lastly, we did not consider the possibility of executing transactions during a trading day but just at the adjusted closing price. At the same time, we know that during this period, China's economy was hit the hardest by the outbreak of COVID-19. Considering the extremely pessimistic economic situation, all industry sectors will be negatively impacted. In summary, these four factors are definitely not robust enough over time and cannot serve as good profit-generating factors at all."
      ]
    },
    {
      "cell_type": "markdown",
      "metadata": {
        "id": "rPEVIixQFXkk"
      },
      "source": [
        "## Calculate Sharpe Ratio"
      ]
    },
    {
      "cell_type": "markdown",
      "metadata": {
        "id": "wvEfW2YGIOzL"
      },
      "source": [
        "Also, you can see the Sharpe ratio is negative. Therefore it is not worth any penny."
      ]
    },
    {
      "cell_type": "code",
      "execution_count": 43,
      "metadata": {
        "colab": {
          "base_uri": "https://localhost:8080/"
        },
        "id": "dX5UBRGvCHgg",
        "outputId": "5466ac81-889c-43e5-97c2-d46de796b6bf"
      },
      "outputs": [
        {
          "output_type": "stream",
          "name": "stdout",
          "text": [
            "-15.471439291654399\n"
          ]
        }
      ],
      "source": [
        "# how many trading days in a year\n",
        "trading_days = 250\n",
        "# calculate the mean of daily return, daily return standard deviation\n",
        "daily_mean = port.mean()\n",
        "daily_std = port.std()\n",
        "\n",
        "# get the sharpe ratio\n",
        "sharpe_ratio_1 = (daily_mean - daily_std) * np.sqrt(trading_days) / daily_std\n",
        "\n",
        "print(sharpe_ratio_1)"
      ]
    },
    {
      "cell_type": "markdown",
      "metadata": {
        "id": "IR_sbNIrIkvE"
      },
      "source": [
        "## Summary"
      ]
    },
    {
      "cell_type": "markdown",
      "metadata": {
        "id": "5P-Q1KXEIwKi"
      },
      "source": [
        "With the analysis of China real estate markets, we can get a few of takeaways:\n",
        "\n",
        "- 1. As economy was trending down (China was inflicted by the trade war against the United States and then COVID-19, the winner will be much stronger with greater access to external financing to bid land resources.\n",
        "\n",
        "- 2. Payables are a common a tool that developers leveraged in order to improve their financial well-being in the short term. \n",
        "\n",
        "- 3. We can infer joint venture financing through the ratios between comprehensive income attributed to non-controlling interests and non-controlling interest to total equity. These two ratios' trend should align if no joint venture financing involved. Companies with strong balance sheet typically would not opt for such financing sources, but weaker players tend to do so.\n",
        "\n",
        "- 4. Even though, we know which signals are good or bad, it is still very hard to leverage those signals to develop a profitable trading model even in the paper trading. If a trading idea cannot pass paper trading, just don't even think about the real trading environment.\n",
        "\n",
        "- 5. Obviously, our trading ideas does not include any rebalancing techniques. Given the market situation, our trade model can be improve through rebalancing. For example, we can rebalance our portfolio based on the latest finanical statement. Selling stocks that fall out of Quantile Bin 1 and Buying stocks back if they get out of Quantile bin 5 and so on."
      ]
    },
    {
      "cell_type": "code",
      "execution_count": 43,
      "metadata": {
        "id": "gt3ubNUNFoeQ"
      },
      "outputs": [],
      "source": [
        ""
      ]
    }
  ],
  "metadata": {
    "colab": {
      "collapsed_sections": [],
      "name": "China_Real_Estate_Firms_Financial_Analysis.ipynb",
      "provenance": []
    },
    "kernelspec": {
      "display_name": "Python 3",
      "language": "python",
      "name": "python3"
    },
    "language_info": {
      "codemirror_mode": {
        "name": "ipython",
        "version": 3
      },
      "file_extension": ".py",
      "mimetype": "text/x-python",
      "name": "python",
      "nbconvert_exporter": "python",
      "pygments_lexer": "ipython3",
      "version": "3.7.6"
    }
  },
  "nbformat": 4,
  "nbformat_minor": 0
}